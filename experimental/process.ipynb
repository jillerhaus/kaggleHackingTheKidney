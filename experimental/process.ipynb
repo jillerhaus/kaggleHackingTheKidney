{
 "cells": [
  {
   "cell_type": "markdown",
   "id": "wicked-bearing",
   "metadata": {},
   "source": [
    "## Imports"
   ]
  },
  {
   "cell_type": "code",
   "execution_count": 1,
   "id": "toxic-coating",
   "metadata": {},
   "outputs": [
    {
     "data": {
      "text/html": [
       "<style>.container { width:90% !important; }</style>"
      ],
      "text/plain": [
       "<IPython.core.display.HTML object>"
      ]
     },
     "metadata": {},
     "output_type": "display_data"
    }
   ],
   "source": [
    "import numpy as np\n",
    "import pandas as pd\n",
    "import matplotlib.pyplot as plt\n",
    "from PIL import Image\n",
    "import tifffile as tiff\n",
    "import cv2\n",
    "import os\n",
    "from tqdm.notebook import tqdm\n",
    "import zipfile\n",
    "from glob import glob\n",
    "from IPython.core.display import display, HTML\n",
    "display(HTML(\"<style>.container { width:90% !important; }</style>\"))\n",
    "pd.set_option('display.max_columns', None)"
   ]
  },
  {
   "cell_type": "code",
   "execution_count": 2,
   "id": "serial-submission",
   "metadata": {},
   "outputs": [],
   "source": [
    "DATA_PATH = \"../input/hubmap-kidney-segmentation\"\n",
    "MASKS = f\"{DATA_PATH}/train.csv\"\n",
    "DATA = f\"{DATA_PATH}/train/\"\n",
    "TEST_DATA = f\"{DATA_PATH}/test/\"\n",
    "SHFT = [0, 0.5]\n",
    "REDUCE = 4\n",
    "SIZE = 512\n",
    "SAT_THR = 40\n",
    "PIX_THR = 200 * SIZE // 256\n",
    "NORM = True\n",
    "BNW = True\n",
    "TRIPLE = True\n",
    "PSEUDO = True\n",
    "EXT = True\n",
    "\n",
    "if BNW == False:\n",
    "    TRIPLE = False\n",
    "\n",
    "TILES_PATH = f\"{DATA_PATH}/tiles_r{REDUCE}_s{SIZE}\"\n",
    "MASKS_PATH = f\"{DATA_PATH}/masks_R{REDUCE}_s{SIZE}\"\n",
    "if BNW:\n",
    "    TILES_PATH += \"_bnw\"\n",
    "    MASKS_PATH += \"_bnw\"\n",
    "\n",
    "if PSEUDO:\n",
    "    TILES_PATH += f\"_pseudo\"\n",
    "    MASKS_PATH += f\"_pseudo\"\n",
    "if EXT:\n",
    "    TILES_PATH += f\"_ext\"\n",
    "    MASKS_PATH += f\"_ext\"\n",
    "    \n",
    "PSEUDO_PRED_PATH = \"../input/hubmap-kidney-segmentation/submission.csv\"\n",
    "\n",
    "for path in [TILES_PATH, MASKS_PATH]:\n",
    "    if not os.path.exists(path):\n",
    "        os.mkdir(path)"
   ]
  },
  {
   "cell_type": "code",
   "execution_count": 3,
   "id": "lasting-paris",
   "metadata": {
    "scrolled": true
   },
   "outputs": [
    {
     "data": {
      "application/vnd.jupyter.widget-view+json": {
       "model_id": "267f3286ee464c0c97847a995fca1dcb",
       "version_major": 2,
       "version_minor": 0
      },
      "text/plain": [
       "  0%|          | 0/2575 [00:00<?, ?it/s]"
      ]
     },
     "metadata": {},
     "output_type": "display_data"
    }
   ],
   "source": [
    "if EXT:\n",
    "    external_images = glob(\"../input/hubmap-kidney-segmentation/external/images_1024/*\")\n",
    "    for external_image in tqdm(external_images):\n",
    "        external_mask = external_image.replace(\"images\", \"masks\")\n",
    "    \n",
    "        img_ext = cv2.imread(external_image)\n",
    "        msk_ext = cv2.imread(external_mask, cv2.IMREAD_GRAYSCALE)\n",
    "\n",
    "        img_ext = cv2.resize(img_ext, (SIZE, SIZE))\n",
    "        msk_ext = cv2.resize(msk_ext, (SIZE,SIZE))\n",
    "        if (msk_ext.mean() == 0) & (np.random.randint(0,2) != 0):\n",
    "            continue\n",
    "        if BNW:\n",
    "            img_ext = cv2.cvtColor(img_ext, cv2.COLOR_BGR2GRAY)\n",
    "            if img_ext.mean() > 235:\n",
    "                continue\n",
    "            img_ext = img_ext * (255 / img_ext.max())\n",
    "            img_ext[img_ext > 255] = 255\n",
    "            img_ext = np.round(img_ext).astype(np.uint8)\n",
    "            img_ext = np.transpose(np.array([img_ext,img_ext,img_ext]), (1,2,0))\n",
    "        else:\n",
    "            img_ext = cv2.cvtColor(img_ext, cv2.COLOR_BGR2RGB)\n",
    "        ext_img_path = external_image.replace(\"../input/hubmap-kidney-segmentation/external/images_1024\", TILES_PATH)\n",
    "        ext_mask_path = external_mask.replace(\"../input/hubmap-kidney-segmentation/external/masks_1024\", MASKS_PATH)\n",
    "        is_written = cv2.imwrite(ext_img_path, img_ext)\n",
    "        if not is_written:\n",
    "            print(\"error writing to file \", ext_img_path)\n",
    "        is_written = cv2.imwrite(ext_mask_path, msk_ext)\n",
    "        if not is_written:\n",
    "            print(f\"error writing to file {ext_mask_path}\")\n"
   ]
  },
  {
   "cell_type": "code",
   "execution_count": 4,
   "id": "unauthorized-message",
   "metadata": {},
   "outputs": [],
   "source": [
    "def enc2mask(encs, shape):\n",
    "    img = np.zeros(shape[0] * shape[1], dtype = np.uint8)\n",
    "    for m, enc in enumerate(encs):\n",
    "        if isinstance(enc, np.float) and np.isnan(enc):\n",
    "            continue\n",
    "        s = enc.split()\n",
    "        for i in range(len(s) // 2):\n",
    "            start = int(s[2 * i]) -1\n",
    "            length = int(s[2 * i + 1])\n",
    "            img[start: start + length] = 1 + m\n",
    "    return img.reshape(shape).T\n",
    "        "
   ]
  },
  {
   "cell_type": "code",
   "execution_count": 5,
   "id": "unlikely-parent",
   "metadata": {},
   "outputs": [],
   "source": [
    "dfs, paths = [], []\n",
    "dfs.append(pd.read_csv(MASKS).set_index(\"id\"))\n",
    "paths.append(DATA)"
   ]
  },
  {
   "cell_type": "code",
   "execution_count": 6,
   "id": "0cd2347e",
   "metadata": {},
   "outputs": [],
   "source": [
    "if PSEUDO:\n",
    "    pseudo_df = pd.read_csv(PSEUDO_PRED_PATH).set_index(\"id\")\n",
    "    pseudo_df.columns = [\"encoding\"]\n",
    "    \n",
    "    dfs.append(pseudo_df)\n",
    "    paths.append(TEST_DATA)\n",
    "\n"
   ]
  },
  {
   "cell_type": "code",
   "execution_count": 7,
   "id": "accredited-catering",
   "metadata": {
    "scrolled": true
   },
   "outputs": [
    {
     "name": "stdout",
     "output_type": "stream",
     "text": [
      "                                                    encoding\n",
      "id                                                          \n",
      "2f6ecfcdf  296084587 4 296115835 6 296115859 14 296147109...\n",
      "8242609fa  96909968 56 96941265 60 96972563 64 97003861 6...\n",
      "aaa6a05cc  30989109 59 31007591 64 31026074 68 31044556 7...\n",
      "cb2d976f4  78144363 5 78179297 15 78214231 25 78249165 35...\n",
      "b9a3865fc  61271840 4 61303134 13 61334428 22 61365722 30...\n",
      "../input/hubmap-kidney-segmentation/train/\n",
      "                                                    encoding\n",
      "id                                                          \n",
      "2ec3f1bb9  60762268 64 60786258 64 60810248 64 60834238 6...\n",
      "3589adb90  68423520 36 68452953 36 68482386 36 68511819 3...\n",
      "57512b7f1  328852843 16 328886083 16 328919323 16 3289525...\n",
      "aa05346ff  52856673 64 52887393 64 52918113 64 52948833 6...\n",
      "d488c759a  548108918 36 548155578 36 548202238 36 5482488...\n",
      "../input/hubmap-kidney-segmentation/test/\n"
     ]
    }
   ],
   "source": [
    "for df_masks, data_path in zip(dfs, paths):\n",
    "    print(df_masks.head())\n",
    "    print(data_path)"
   ]
  },
  {
   "cell_type": "code",
   "execution_count": 8,
   "id": "compact-headline",
   "metadata": {
    "scrolled": false
   },
   "outputs": [
    {
     "name": "stdout",
     "output_type": "stream",
     "text": [
      "processing: ../input/hubmap-kidney-segmentation/train/\n"
     ]
    },
    {
     "data": {
      "application/vnd.jupyter.widget-view+json": {
       "model_id": "d04619df6a714efaa54cdd5bd8fddc9b",
       "version_major": 2,
       "version_minor": 0
      },
      "text/plain": [
       "shift 0:   0%|          | 0/15 [00:00<?, ?it/s]"
      ]
     },
     "metadata": {},
     "output_type": "display_data"
    },
    {
     "name": "stdout",
     "output_type": "stream",
     "text": [
      "\n",
      "../input/hubmap-kidney-segmentation/train/2f6ecfcdf.tiff\n",
      "img shape: (31278, 25794, 3)\n",
      "before pad img shape: (31278, 25794, 3)\n",
      "\n",
      "../input/hubmap-kidney-segmentation/train/8242609fa.tiff\n",
      "img shape: (31299, 44066, 3)\n",
      "before pad img shape: (31299, 44066, 3)\n",
      "\n",
      "../input/hubmap-kidney-segmentation/train/aaa6a05cc.tiff\n",
      "img shape: (18484, 13013, 3)\n",
      "before pad img shape: (18484, 13013, 3)\n",
      "\n",
      "../input/hubmap-kidney-segmentation/train/cb2d976f4.tiff\n",
      "img shape: (34940, 49548, 3)\n",
      "before pad img shape: (34940, 49548, 3)\n",
      "\n",
      "../input/hubmap-kidney-segmentation/train/b9a3865fc.tiff\n",
      "img shape: (31295, 40429, 3)\n",
      "before pad img shape: (31295, 40429, 3)\n",
      "\n",
      "../input/hubmap-kidney-segmentation/train/b2dc8411c.tiff\n",
      "img shape: (14844, 31262, 3)\n",
      "before pad img shape: (14844, 31262, 3)\n",
      "\n",
      "../input/hubmap-kidney-segmentation/train/0486052bb.tiff\n",
      "img shape: (25784, 34937, 3)\n",
      "before pad img shape: (25784, 34937, 3)\n",
      "\n",
      "../input/hubmap-kidney-segmentation/train/e79de561c.tiff\n",
      "img shape: (1, 1, 3, 16180, 27020)\n",
      "before pad img shape: (16180, 27020, 3)\n",
      "\n",
      "../input/hubmap-kidney-segmentation/train/095bf7a1f.tiff\n",
      "img shape: (3, 38160, 39000)\n",
      "before pad img shape: (38160, 39000, 3)\n",
      "\n",
      "../input/hubmap-kidney-segmentation/train/54f2eec69.tiff\n",
      "img shape: (1, 1, 3, 30440, 22240)\n",
      "before pad img shape: (30440, 22240, 3)\n",
      "\n",
      "../input/hubmap-kidney-segmentation/train/4ef6695ce.tiff\n",
      "img shape: (3, 39960, 50680)\n",
      "before pad img shape: (39960, 50680, 3)\n",
      "\n",
      "../input/hubmap-kidney-segmentation/train/26dc41664.tiff\n",
      "img shape: (3, 38160, 42360)\n",
      "before pad img shape: (38160, 42360, 3)\n",
      "\n",
      "../input/hubmap-kidney-segmentation/train/c68fe75ea.tiff\n",
      "img shape: (3, 26840, 49780)\n",
      "before pad img shape: (26840, 49780, 3)\n",
      "\n",
      "../input/hubmap-kidney-segmentation/train/afa5e8098.tiff\n",
      "img shape: (36800, 43780, 3)\n",
      "before pad img shape: (36800, 43780, 3)\n",
      "\n",
      "../input/hubmap-kidney-segmentation/train/1e2425f28.tiff\n",
      "img shape: (3, 26780, 32220)\n",
      "before pad img shape: (26780, 32220, 3)\n"
     ]
    },
    {
     "data": {
      "application/vnd.jupyter.widget-view+json": {
       "model_id": "57a16667084944c386f68c6a39005f15",
       "version_major": 2,
       "version_minor": 0
      },
      "text/plain": [
       "shift 1:   0%|          | 0/15 [00:00<?, ?it/s]"
      ]
     },
     "metadata": {},
     "output_type": "display_data"
    },
    {
     "name": "stdout",
     "output_type": "stream",
     "text": [
      "\n",
      "../input/hubmap-kidney-segmentation/train/2f6ecfcdf.tiff\n",
      "img shape: (31278, 25794, 3)\n",
      "before pad img shape: (31278, 25794, 3)\n",
      "\n",
      "../input/hubmap-kidney-segmentation/train/8242609fa.tiff\n",
      "img shape: (31299, 44066, 3)\n",
      "before pad img shape: (31299, 44066, 3)\n",
      "\n",
      "../input/hubmap-kidney-segmentation/train/aaa6a05cc.tiff\n",
      "img shape: (18484, 13013, 3)\n",
      "before pad img shape: (18484, 13013, 3)\n",
      "\n",
      "../input/hubmap-kidney-segmentation/train/cb2d976f4.tiff\n",
      "img shape: (34940, 49548, 3)\n",
      "before pad img shape: (34940, 49548, 3)\n",
      "\n",
      "../input/hubmap-kidney-segmentation/train/b9a3865fc.tiff\n",
      "img shape: (31295, 40429, 3)\n",
      "before pad img shape: (31295, 40429, 3)\n",
      "\n",
      "../input/hubmap-kidney-segmentation/train/b2dc8411c.tiff\n",
      "img shape: (14844, 31262, 3)\n",
      "before pad img shape: (14844, 31262, 3)\n",
      "\n",
      "../input/hubmap-kidney-segmentation/train/0486052bb.tiff\n",
      "img shape: (25784, 34937, 3)\n",
      "before pad img shape: (25784, 34937, 3)\n",
      "\n",
      "../input/hubmap-kidney-segmentation/train/e79de561c.tiff\n",
      "img shape: (1, 1, 3, 16180, 27020)\n",
      "before pad img shape: (16180, 27020, 3)\n",
      "\n",
      "../input/hubmap-kidney-segmentation/train/095bf7a1f.tiff\n",
      "img shape: (3, 38160, 39000)\n",
      "before pad img shape: (38160, 39000, 3)\n",
      "\n",
      "../input/hubmap-kidney-segmentation/train/54f2eec69.tiff\n",
      "img shape: (1, 1, 3, 30440, 22240)\n",
      "before pad img shape: (30440, 22240, 3)\n",
      "error (30440, 22240, 3)\n"
     ]
    },
    {
     "ename": "KeyboardInterrupt",
     "evalue": "",
     "output_type": "error",
     "traceback": [
      "\u001b[1;31m---------------------------------------------------------------------------\u001b[0m",
      "\u001b[1;31mKeyboardInterrupt\u001b[0m                         Traceback (most recent call last)",
      "\u001b[1;32m<ipython-input-8-50d995ea4ce2>\u001b[0m in \u001b[0;36m<module>\u001b[1;34m\u001b[0m\n\u001b[0;32m      4\u001b[0m     \u001b[1;32mfor\u001b[0m \u001b[0mishift\u001b[0m\u001b[1;33m,\u001b[0m \u001b[0mshift\u001b[0m \u001b[1;32min\u001b[0m \u001b[0menumerate\u001b[0m\u001b[1;33m(\u001b[0m\u001b[0mSHFT\u001b[0m\u001b[1;33m)\u001b[0m\u001b[1;33m:\u001b[0m \u001b[1;31m#index_shift, shift\u001b[0m\u001b[1;33m\u001b[0m\u001b[1;33m\u001b[0m\u001b[0m\n\u001b[0;32m      5\u001b[0m         \u001b[1;32mfor\u001b[0m \u001b[0mindex\u001b[0m\u001b[1;33m,\u001b[0m \u001b[0mencs\u001b[0m \u001b[1;32min\u001b[0m \u001b[0mtqdm\u001b[0m\u001b[1;33m(\u001b[0m\u001b[0mdf_masks\u001b[0m\u001b[1;33m.\u001b[0m\u001b[0miterrows\u001b[0m\u001b[1;33m(\u001b[0m\u001b[1;33m)\u001b[0m\u001b[1;33m,\u001b[0m \u001b[0mtotal\u001b[0m \u001b[1;33m=\u001b[0m \u001b[0mlen\u001b[0m\u001b[1;33m(\u001b[0m\u001b[0mdf_masks\u001b[0m\u001b[1;33m)\u001b[0m\u001b[1;33m,\u001b[0m \u001b[0mdesc\u001b[0m \u001b[1;33m=\u001b[0m \u001b[1;34mf\"shift {ishift}\"\u001b[0m\u001b[1;33m)\u001b[0m\u001b[1;33m:\u001b[0m\u001b[1;33m\u001b[0m\u001b[1;33m\u001b[0m\u001b[0m\n\u001b[1;32m----> 6\u001b[1;33m             \u001b[0mimg\u001b[0m \u001b[1;33m=\u001b[0m \u001b[0mtiff\u001b[0m\u001b[1;33m.\u001b[0m\u001b[0mimread\u001b[0m\u001b[1;33m(\u001b[0m\u001b[0mos\u001b[0m\u001b[1;33m.\u001b[0m\u001b[0mpath\u001b[0m\u001b[1;33m.\u001b[0m\u001b[0mjoin\u001b[0m\u001b[1;33m(\u001b[0m\u001b[0mdata_path\u001b[0m\u001b[1;33m,\u001b[0m \u001b[0mindex\u001b[0m \u001b[1;33m+\u001b[0m \u001b[1;34m\".tiff\"\u001b[0m\u001b[1;33m)\u001b[0m\u001b[1;33m)\u001b[0m\u001b[1;33m\u001b[0m\u001b[1;33m\u001b[0m\u001b[0m\n\u001b[0m\u001b[0;32m      7\u001b[0m             \u001b[0mprint\u001b[0m\u001b[1;33m(\u001b[0m\u001b[1;34m\"\"\u001b[0m \u001b[1;33m*\u001b[0m \u001b[1;36m20\u001b[0m\u001b[1;33m)\u001b[0m\u001b[1;33m\u001b[0m\u001b[1;33m\u001b[0m\u001b[0m\n\u001b[0;32m      8\u001b[0m             \u001b[0mprint\u001b[0m\u001b[1;33m(\u001b[0m\u001b[0mos\u001b[0m\u001b[1;33m.\u001b[0m\u001b[0mpath\u001b[0m\u001b[1;33m.\u001b[0m\u001b[0mjoin\u001b[0m\u001b[1;33m(\u001b[0m\u001b[0mdata_path\u001b[0m\u001b[1;33m,\u001b[0m \u001b[0mindex\u001b[0m \u001b[1;33m+\u001b[0m \u001b[1;34m\".tiff\"\u001b[0m\u001b[1;33m)\u001b[0m\u001b[1;33m)\u001b[0m\u001b[1;33m\u001b[0m\u001b[1;33m\u001b[0m\u001b[0m\n",
      "\u001b[1;32m~\\anaconda3\\envs\\tfgpu2\\lib\\site-packages\\tifffile\\tifffile.py\u001b[0m in \u001b[0;36mimread\u001b[1;34m(files, aszarr, **kwargs)\u001b[0m\n\u001b[0;32m    782\u001b[0m                 \u001b[1;32mif\u001b[0m \u001b[0maszarr\u001b[0m\u001b[1;33m:\u001b[0m\u001b[1;33m\u001b[0m\u001b[1;33m\u001b[0m\u001b[0m\n\u001b[0;32m    783\u001b[0m                     \u001b[1;32mreturn\u001b[0m \u001b[0mtif\u001b[0m\u001b[1;33m.\u001b[0m\u001b[0maszarr\u001b[0m\u001b[1;33m(\u001b[0m\u001b[1;33m**\u001b[0m\u001b[0mkwargs\u001b[0m\u001b[1;33m)\u001b[0m\u001b[1;33m\u001b[0m\u001b[1;33m\u001b[0m\u001b[0m\n\u001b[1;32m--> 784\u001b[1;33m                 \u001b[1;32mreturn\u001b[0m \u001b[0mtif\u001b[0m\u001b[1;33m.\u001b[0m\u001b[0masarray\u001b[0m\u001b[1;33m(\u001b[0m\u001b[1;33m**\u001b[0m\u001b[0mkwargs\u001b[0m\u001b[1;33m)\u001b[0m\u001b[1;33m\u001b[0m\u001b[1;33m\u001b[0m\u001b[0m\n\u001b[0m\u001b[0;32m    785\u001b[0m \u001b[1;33m\u001b[0m\u001b[0m\n\u001b[0;32m    786\u001b[0m     \u001b[1;32mwith\u001b[0m \u001b[0mTiffSequence\u001b[0m\u001b[1;33m(\u001b[0m\u001b[0mfiles\u001b[0m\u001b[1;33m,\u001b[0m \u001b[1;33m**\u001b[0m\u001b[0mkwargs_seq\u001b[0m\u001b[1;33m)\u001b[0m \u001b[1;32mas\u001b[0m \u001b[0mimseq\u001b[0m\u001b[1;33m:\u001b[0m\u001b[1;33m\u001b[0m\u001b[1;33m\u001b[0m\u001b[0m\n",
      "\u001b[1;32m~\\anaconda3\\envs\\tfgpu2\\lib\\site-packages\\tifffile\\tifffile.py\u001b[0m in \u001b[0;36masarray\u001b[1;34m(self, key, series, level, squeeze, out, maxworkers)\u001b[0m\n\u001b[0;32m   3119\u001b[0m             \u001b[0mresult\u001b[0m \u001b[1;33m=\u001b[0m \u001b[0mpages\u001b[0m\u001b[1;33m[\u001b[0m\u001b[1;36m0\u001b[0m\u001b[1;33m]\u001b[0m\u001b[1;33m.\u001b[0m\u001b[0masarray\u001b[0m\u001b[1;33m(\u001b[0m\u001b[0mout\u001b[0m\u001b[1;33m=\u001b[0m\u001b[0mout\u001b[0m\u001b[1;33m,\u001b[0m \u001b[0mmaxworkers\u001b[0m\u001b[1;33m=\u001b[0m\u001b[0mmaxworkers\u001b[0m\u001b[1;33m)\u001b[0m\u001b[1;33m\u001b[0m\u001b[1;33m\u001b[0m\u001b[0m\n\u001b[0;32m   3120\u001b[0m         \u001b[1;32melse\u001b[0m\u001b[1;33m:\u001b[0m\u001b[1;33m\u001b[0m\u001b[1;33m\u001b[0m\u001b[0m\n\u001b[1;32m-> 3121\u001b[1;33m             \u001b[0mresult\u001b[0m \u001b[1;33m=\u001b[0m \u001b[0mstack_pages\u001b[0m\u001b[1;33m(\u001b[0m\u001b[0mpages\u001b[0m\u001b[1;33m,\u001b[0m \u001b[0mout\u001b[0m\u001b[1;33m=\u001b[0m\u001b[0mout\u001b[0m\u001b[1;33m,\u001b[0m \u001b[0mmaxworkers\u001b[0m\u001b[1;33m=\u001b[0m\u001b[0mmaxworkers\u001b[0m\u001b[1;33m)\u001b[0m\u001b[1;33m\u001b[0m\u001b[1;33m\u001b[0m\u001b[0m\n\u001b[0m\u001b[0;32m   3122\u001b[0m \u001b[1;33m\u001b[0m\u001b[0m\n\u001b[0;32m   3123\u001b[0m         \u001b[1;32mif\u001b[0m \u001b[0mresult\u001b[0m \u001b[1;32mis\u001b[0m \u001b[1;32mNone\u001b[0m\u001b[1;33m:\u001b[0m\u001b[1;33m\u001b[0m\u001b[1;33m\u001b[0m\u001b[0m\n",
      "\u001b[1;32m~\\anaconda3\\envs\\tfgpu2\\lib\\site-packages\\tifffile\\tifffile.py\u001b[0m in \u001b[0;36mstack_pages\u001b[1;34m(pages, out, maxworkers, **kwargs)\u001b[0m\n\u001b[0;32m  15323\u001b[0m         \u001b[0mpage0\u001b[0m\u001b[1;33m.\u001b[0m\u001b[0mdecode\u001b[0m  \u001b[1;31m# init TiffPage.decode function\u001b[0m\u001b[1;33m\u001b[0m\u001b[1;33m\u001b[0m\u001b[0m\n\u001b[0;32m  15324\u001b[0m         \u001b[1;32mwith\u001b[0m \u001b[0mThreadPoolExecutor\u001b[0m\u001b[1;33m(\u001b[0m\u001b[0mmaxworkers\u001b[0m\u001b[1;33m)\u001b[0m \u001b[1;32mas\u001b[0m \u001b[0mexecutor\u001b[0m\u001b[1;33m:\u001b[0m\u001b[1;33m\u001b[0m\u001b[1;33m\u001b[0m\u001b[0m\n\u001b[1;32m> 15325\u001b[1;33m             \u001b[1;32mfor\u001b[0m \u001b[0m_\u001b[0m \u001b[1;32min\u001b[0m \u001b[0mexecutor\u001b[0m\u001b[1;33m.\u001b[0m\u001b[0mmap\u001b[0m\u001b[1;33m(\u001b[0m\u001b[0mfunc\u001b[0m\u001b[1;33m,\u001b[0m \u001b[0mpages\u001b[0m\u001b[1;33m,\u001b[0m \u001b[0mrange\u001b[0m\u001b[1;33m(\u001b[0m\u001b[0mnpages\u001b[0m\u001b[1;33m)\u001b[0m\u001b[1;33m)\u001b[0m\u001b[1;33m:\u001b[0m\u001b[1;33m\u001b[0m\u001b[1;33m\u001b[0m\u001b[0m\n\u001b[0m\u001b[0;32m  15326\u001b[0m                 \u001b[1;32mpass\u001b[0m\u001b[1;33m\u001b[0m\u001b[1;33m\u001b[0m\u001b[0m\n\u001b[0;32m  15327\u001b[0m \u001b[1;33m\u001b[0m\u001b[0m\n",
      "\u001b[1;32m~\\anaconda3\\envs\\tfgpu2\\lib\\concurrent\\futures\\_base.py\u001b[0m in \u001b[0;36mresult_iterator\u001b[1;34m()\u001b[0m\n\u001b[0;32m    596\u001b[0m                     \u001b[1;31m# Careful not to keep a reference to the popped future\u001b[0m\u001b[1;33m\u001b[0m\u001b[1;33m\u001b[0m\u001b[1;33m\u001b[0m\u001b[0m\n\u001b[0;32m    597\u001b[0m                     \u001b[1;32mif\u001b[0m \u001b[0mtimeout\u001b[0m \u001b[1;32mis\u001b[0m \u001b[1;32mNone\u001b[0m\u001b[1;33m:\u001b[0m\u001b[1;33m\u001b[0m\u001b[1;33m\u001b[0m\u001b[0m\n\u001b[1;32m--> 598\u001b[1;33m                         \u001b[1;32myield\u001b[0m \u001b[0mfs\u001b[0m\u001b[1;33m.\u001b[0m\u001b[0mpop\u001b[0m\u001b[1;33m(\u001b[0m\u001b[1;33m)\u001b[0m\u001b[1;33m.\u001b[0m\u001b[0mresult\u001b[0m\u001b[1;33m(\u001b[0m\u001b[1;33m)\u001b[0m\u001b[1;33m\u001b[0m\u001b[1;33m\u001b[0m\u001b[0m\n\u001b[0m\u001b[0;32m    599\u001b[0m                     \u001b[1;32melse\u001b[0m\u001b[1;33m:\u001b[0m\u001b[1;33m\u001b[0m\u001b[1;33m\u001b[0m\u001b[0m\n\u001b[0;32m    600\u001b[0m                         \u001b[1;32myield\u001b[0m \u001b[0mfs\u001b[0m\u001b[1;33m.\u001b[0m\u001b[0mpop\u001b[0m\u001b[1;33m(\u001b[0m\u001b[1;33m)\u001b[0m\u001b[1;33m.\u001b[0m\u001b[0mresult\u001b[0m\u001b[1;33m(\u001b[0m\u001b[0mend_time\u001b[0m \u001b[1;33m-\u001b[0m \u001b[0mtime\u001b[0m\u001b[1;33m.\u001b[0m\u001b[0mmonotonic\u001b[0m\u001b[1;33m(\u001b[0m\u001b[1;33m)\u001b[0m\u001b[1;33m)\u001b[0m\u001b[1;33m\u001b[0m\u001b[1;33m\u001b[0m\u001b[0m\n",
      "\u001b[1;32m~\\anaconda3\\envs\\tfgpu2\\lib\\concurrent\\futures\\_base.py\u001b[0m in \u001b[0;36mresult\u001b[1;34m(self, timeout)\u001b[0m\n\u001b[0;32m    428\u001b[0m                 \u001b[1;32mreturn\u001b[0m \u001b[0mself\u001b[0m\u001b[1;33m.\u001b[0m\u001b[0m__get_result\u001b[0m\u001b[1;33m(\u001b[0m\u001b[1;33m)\u001b[0m\u001b[1;33m\u001b[0m\u001b[1;33m\u001b[0m\u001b[0m\n\u001b[0;32m    429\u001b[0m \u001b[1;33m\u001b[0m\u001b[0m\n\u001b[1;32m--> 430\u001b[1;33m             \u001b[0mself\u001b[0m\u001b[1;33m.\u001b[0m\u001b[0m_condition\u001b[0m\u001b[1;33m.\u001b[0m\u001b[0mwait\u001b[0m\u001b[1;33m(\u001b[0m\u001b[0mtimeout\u001b[0m\u001b[1;33m)\u001b[0m\u001b[1;33m\u001b[0m\u001b[1;33m\u001b[0m\u001b[0m\n\u001b[0m\u001b[0;32m    431\u001b[0m \u001b[1;33m\u001b[0m\u001b[0m\n\u001b[0;32m    432\u001b[0m             \u001b[1;32mif\u001b[0m \u001b[0mself\u001b[0m\u001b[1;33m.\u001b[0m\u001b[0m_state\u001b[0m \u001b[1;32min\u001b[0m \u001b[1;33m[\u001b[0m\u001b[0mCANCELLED\u001b[0m\u001b[1;33m,\u001b[0m \u001b[0mCANCELLED_AND_NOTIFIED\u001b[0m\u001b[1;33m]\u001b[0m\u001b[1;33m:\u001b[0m\u001b[1;33m\u001b[0m\u001b[1;33m\u001b[0m\u001b[0m\n",
      "\u001b[1;32m~\\anaconda3\\envs\\tfgpu2\\lib\\threading.py\u001b[0m in \u001b[0;36mwait\u001b[1;34m(self, timeout)\u001b[0m\n\u001b[0;32m    294\u001b[0m         \u001b[1;32mtry\u001b[0m\u001b[1;33m:\u001b[0m    \u001b[1;31m# restore state no matter what (e.g., KeyboardInterrupt)\u001b[0m\u001b[1;33m\u001b[0m\u001b[1;33m\u001b[0m\u001b[0m\n\u001b[0;32m    295\u001b[0m             \u001b[1;32mif\u001b[0m \u001b[0mtimeout\u001b[0m \u001b[1;32mis\u001b[0m \u001b[1;32mNone\u001b[0m\u001b[1;33m:\u001b[0m\u001b[1;33m\u001b[0m\u001b[1;33m\u001b[0m\u001b[0m\n\u001b[1;32m--> 296\u001b[1;33m                 \u001b[0mwaiter\u001b[0m\u001b[1;33m.\u001b[0m\u001b[0macquire\u001b[0m\u001b[1;33m(\u001b[0m\u001b[1;33m)\u001b[0m\u001b[1;33m\u001b[0m\u001b[1;33m\u001b[0m\u001b[0m\n\u001b[0m\u001b[0;32m    297\u001b[0m                 \u001b[0mgotit\u001b[0m \u001b[1;33m=\u001b[0m \u001b[1;32mTrue\u001b[0m\u001b[1;33m\u001b[0m\u001b[1;33m\u001b[0m\u001b[0m\n\u001b[0;32m    298\u001b[0m             \u001b[1;32melse\u001b[0m\u001b[1;33m:\u001b[0m\u001b[1;33m\u001b[0m\u001b[1;33m\u001b[0m\u001b[0m\n",
      "\u001b[1;31mKeyboardInterrupt\u001b[0m: "
     ]
    }
   ],
   "source": [
    "for df_masks, data_path in zip(dfs, paths):\n",
    "    print(f\"processing: {data_path}\")\n",
    "    x_tot, x2_tot = [], []\n",
    "    for ishift, shift in enumerate(SHFT): #index_shift, shift\n",
    "        for index, encs in tqdm(df_masks.iterrows(), total = len(df_masks), desc = f\"shift {ishift}\"):\n",
    "            img = tiff.imread(os.path.join(data_path, index + \".tiff\"))\n",
    "            print(\"\" * 20)\n",
    "            print(os.path.join(data_path, index + \".tiff\"))\n",
    "            print(f\"img shape: {img.shape}\")\n",
    "            if len(img.shape) == 5:\n",
    "                img = np.transpose(img.squeeze(), (1, 2, 0))\n",
    "            if img.shape[0] == 3: \n",
    "                img = np.transpose(img.squeeze(), (1, 2, 0))\n",
    "            mask = enc2mask(encs, (img.shape[1], img.shape[0]))\n",
    "            shape = img.shape\n",
    "            try:\n",
    "                print(\"before pad img shape:\", img.shape)\n",
    "                pad0 = (REDUCE * SIZE - shape[0] % (REDUCE * SIZE)) % (REDUCE * SIZE)\n",
    "                \n",
    "                pad1 = (REDUCE * SIZE - shape[1] % (REDUCE * SIZE)) % (REDUCE * SIZE)\n",
    "                \n",
    "                img = np.pad(img, \n",
    "                             [\n",
    "                                 [pad0 // 2, pad0 - pad0 // 2],\n",
    "                                 [pad1 // 2, pad1 - pad1 // 2],\n",
    "                                 [0, 0]\n",
    "                             ], constant_values = 0)\n",
    "                \n",
    "                img = img[\n",
    "                    0 + int(REDUCE * SIZE * shift) : img.shape[0] - int(REDUCE * SIZE * shift),\n",
    "                    0 + int(REDUCE * SIZE * shift) : img.shape[1] - int(REDUCE * SIZE * shift),\n",
    "                    :]\n",
    "                \n",
    "                mask = np.pad(mask,\n",
    "                              [[pad0 // 2, pad0 - pad0 // 2],\n",
    "                               [pad1 // 2, pad1 - pad1 // 2]],\n",
    "                              constant_values = 0)\n",
    "                \n",
    "                mask = mask[\n",
    "                    0 + int(REDUCE * SIZE * shift) : mask.shape[0] - int(REDUCE * SIZE * shift),\n",
    "                    0 + int(REDUCE * SIZE * shift) : mask.shape[1] - int(REDUCE * SIZE * shift)\n",
    "                ]\n",
    "                \n",
    "                img = cv2.resize(img,\n",
    "                                 (img.shape[1] // REDUCE, img.shape[0] // REDUCE),\n",
    "                                 interpolation = cv2.INTER_AREA)\n",
    "                \n",
    "                img = img.reshape(img.shape[0] // SIZE, SIZE, img.shape[1] // SIZE, SIZE, 3)\n",
    "                \n",
    "                img = img.transpose(0, 2, 1, 3, 4).reshape(-1, SIZE, SIZE, 3)\n",
    "                \n",
    "                mask = cv2.resize(mask,\n",
    "                                  (mask.shape[1] // REDUCE, mask.shape[0] // REDUCE),\n",
    "                                  interpolation = cv2.INTER_NEAREST)\n",
    "                \n",
    "                mask = mask.reshape(mask.shape[0] // SIZE, SIZE, mask.shape[1] // SIZE, SIZE)\n",
    "                \n",
    "                mask = mask.transpose(0, 2, 1, 3).reshape(-1, SIZE, SIZE)\n",
    "\n",
    "                for i, (im, m) in enumerate(zip(img, mask)):\n",
    "                    if (m.mean() == 0) & (np.random.randint(0,2) != 0):\n",
    "                        continue\n",
    "                    hsv = cv2.cvtColor(im, cv2.COLOR_BGR2HSV)\n",
    "                    h, s, v = cv2.split(hsv)\n",
    "                    if (s > SAT_THR).sum() <= PIX_THR or im.sum() <= PIX_THR:\n",
    "                        continue\n",
    "                    \n",
    "                    x_tot.append((im / 255).reshape(-1, 3).mean(0))\n",
    "                    x2_tot.append(((im / 255) ** 2).reshape(-1, 3).mean(0))\n",
    "                    if BNW:\n",
    "                        im = cv2.cvtColor(im, cv2.COLOR_BGR2GRAY)\n",
    "                        if im.mean() > 197:\n",
    "                            continue\n",
    "                        im = im * (255 / im.max())\n",
    "                        im[im > 255] = 255\n",
    "                        im = np.round(im).astype(np.uint8)\n",
    "                        im = np.transpose(np.array([im,im,im]), (1,2,0))\n",
    "                    else:\n",
    "                        im = cv2.cvtColor(im, cv2.COLOR_BGR2RGB)\n",
    "                        \n",
    "                    is_written = cv2.imwrite(f\"{TILES_PATH}/{index}_{i}_{ishift}.png\", im)\n",
    "                    if not is_written:\n",
    "                        print(\"error writing to file \", f\"{TILES_PATH}/{index}_{i}_{ishift}.png\")\n",
    "                    is_written = cv2.imwrite(f\"{MASKS_PATH}/{index}_{i}_{ishift}.png\", m)\n",
    "                    if not is_written:\n",
    "                        print(f\"error writing to file {MASKS_PATH}/{index}_{i}_{ishift}.png\")\n",
    "            except:\n",
    "                print(\"error\", shape)\n",
    "                \n",
    "    img_avg = np.array(x_tot).mean(0)\n",
    "    img_std = np.sqrt(np.array(x2_tot).mean(0) - img_avg ** 2)\n",
    "    print(\"mean:\", img_avg, \"| std:\", img_std)"
   ]
  },
  {
   "cell_type": "code",
   "execution_count": null,
   "id": "activated-weight",
   "metadata": {},
   "outputs": [],
   "source": [
    "print(len(os.listdir(TILES_PATH)))\n",
    "print(os.listdir(TILES_PATH)[:10])\n",
    "print(len(os.listdir(MASKS_PATH)))\n",
    "print(os.listdir(MASKS_PATH)[:10])\n",
    "images = set([x[:x.find('_')] for x in os.listdir(TILES_PATH)])\n",
    "print(images)\n",
    "images = set([x[:x.find('_')] for x in os.listdir(MASKS_PATH)])\n",
    "print(images)"
   ]
  },
  {
   "cell_type": "code",
   "execution_count": null,
   "id": "respective-canal",
   "metadata": {
    "scrolled": true
   },
   "outputs": [],
   "source": [
    "NUM = 5\n",
    "columns, rows = NUM, NUM\n",
    "idx0 = 1150\n",
    "fig = plt.figure(figsize = (columns * NUM, rows * NUM))\n",
    "fnames = sorted(sorted(os.listdir(TILES_PATH)))\n",
    "for i in range(rows):\n",
    "    for j in range(columns):\n",
    "        idx = i + j * columns\n",
    "        img = cv2.imread(f'{TILES_PATH}/{fnames[idx0 + idx]}')\n",
    "        mask = cv2.imread(f'{MASKS_PATH}/{fnames[idx0 + idx]}',\n",
    "                          cv2.IMREAD_GRAYSCALE)\n",
    "        fig.add_subplot(rows, columns, idx + 1)\n",
    "        plt.axis('off')\n",
    "        plt.imshow(Image.fromarray(img))\n",
    "        plt.imshow(Image.fromarray(mask), alpha = 0.3)\n",
    "        plt.title(fnames[idx0 + idx])\n",
    "plt.show()"
   ]
  }
 ],
 "metadata": {
  "kernelspec": {
   "display_name": "Python 3",
   "language": "python",
   "name": "python3"
  },
  "language_info": {
   "codemirror_mode": {
    "name": "ipython",
    "version": 3
   },
   "file_extension": ".py",
   "mimetype": "text/x-python",
   "name": "python",
   "nbconvert_exporter": "python",
   "pygments_lexer": "ipython3",
   "version": "3.7.10"
  },
  "toc": {
   "base_numbering": 1,
   "nav_menu": {},
   "number_sections": true,
   "sideBar": true,
   "skip_h1_title": true,
   "title_cell": "Table of Contents",
   "title_sidebar": "Contents",
   "toc_cell": false,
   "toc_position": {
    "height": "calc(100% - 180px)",
    "left": "10px",
    "top": "150px",
    "width": "512px"
   },
   "toc_section_display": true,
   "toc_window_display": false
  },
  "varInspector": {
   "cols": {
    "lenName": 16,
    "lenType": 16,
    "lenVar": 40
   },
   "kernels_config": {
    "python": {
     "delete_cmd_postfix": "",
     "delete_cmd_prefix": "del ",
     "library": "var_list.py",
     "varRefreshCmd": "print(var_dic_list())"
    },
    "r": {
     "delete_cmd_postfix": ") ",
     "delete_cmd_prefix": "rm(",
     "library": "var_list.r",
     "varRefreshCmd": "cat(var_dic_list()) "
    }
   },
   "types_to_exclude": [
    "module",
    "function",
    "builtin_function_or_method",
    "instance",
    "_Feature"
   ],
   "window_display": false
  }
 },
 "nbformat": 4,
 "nbformat_minor": 5
}
