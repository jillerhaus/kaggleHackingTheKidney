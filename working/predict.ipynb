{
 "cells": [
  {
   "cell_type": "markdown",
   "id": "496fbd85",
   "metadata": {},
   "source": [
    "## Predict"
   ]
  },
  {
   "cell_type": "code",
   "execution_count": null,
   "id": "4f4df38d",
   "metadata": {},
   "outputs": [],
   "source": [
    "%env SM_FRAMEWORK=tf.keras\n",
    "import os\n",
    "import tensorflow as tf\n",
    "import tensorflow.keras.backend as K\n",
    "from tensorflow.keras.losses import binary_crossentropy\n",
    "import tensorflow_addons as tfa\n",
    "from segmentation_models import Unet, FPN\n",
    "import pandas as pd\n",
    "import tifffile as tiff\n",
    "import cv2\n",
    "import numpy as np\n",
    "import matplotlib.pyplot as plt"
   ]
  },
  {
   "cell_type": "code",
   "execution_count": null,
   "id": "d4ddf1dd",
   "metadata": {},
   "outputs": [],
   "source": [
    "VER = \"v06\"\n",
    "PARAMS = {\n",
    "    \"version\": VER,\n",
    "    \"folds\": 1,\n",
    "    \"img_size\": 256,\n",
    "    \"resize\": 4,\n",
    "    \"batch_size\" : 20,\n",
    "    \"epochs\": 2,\n",
    "    \"patience\": 20,\n",
    "    \"backbone\": \"efficientnetb7\",# efficientnetbX, resnet34/50, resnext50, seresnet34, seresnext\n",
    "    \"loss\": \"bce_dice\",\n",
    "    \"mirror\": False,\n",
    "    \"umodel\" : \"unet\",\n",
    "    \"bce_weight\": 1.,\n",
    "    \"shift\": True,\n",
    "    \"pseudo\":\"\",\n",
    "    \"lr\": 0.0002\n",
    "}\n",
    "DATA_PATH = \"../input/hubmap-kidney-segmentation\"\n",
    "\n",
    "if not PARAMS[\"mirror\"]:\n",
    "    os.environ[\"CUDA_VISIBLE_DEVICES\"] = \"0\"\n",
    "    STRATEGY = tf.distribute.get_strategy()\n",
    "else:\n",
    "    STRATEGY = tf.distribute.MirroredStrategy()\n",
    "\n",
    "\n",
    "MDLS_PATH = f\"./models_{VER}\""
   ]
  },
  {
   "cell_type": "code",
   "execution_count": null,
   "id": "a7ec9b9d",
   "metadata": {},
   "outputs": [],
   "source": [
    "def enc2mask(encs, shape):\n",
    "    img = np.zeros(shape[0] * shape[1])\n",
    "    for m, enc in enumerate(encs):\n",
    "        if isinstance(enc,np.float) and np.isnan(enc): continue\n",
    "        s = enc.split()\n",
    "        for i in range(len(s) // 2):\n",
    "            start = int(s[2 * i]) - 1\n",
    "            length = int(s[ 2 * i + 1])\n",
    "            img[start : start + length] = 1 + m\n",
    "        return img.reshape(shape).T"
   ]
  },
  {
   "cell_type": "code",
   "execution_count": null,
   "id": "cf23e5b0",
   "metadata": {},
   "outputs": [],
   "source": [
    "def dice_coef(y_true, y_pred, smooth = 1):\n",
    "    y_true_f = K.flatten(y_true)\n",
    "    y_pred_f = K.flatten(y_pred)\n",
    "    intersection = K.sum(y_true_f * y_pred_f)\n",
    "    return (2 * intersection + smooth) / (K.sum(y_true_f) + K.sum(y_pred_f) + smooth)\n",
    "\n",
    "def dice_loss(y_true, y_pred, smooth = 1):\n",
    "    return (1 - dice_coef(y_true, y_pred))\n",
    "\n",
    "def bce_dice_loss(y_true, y_pred):\n",
    "    return PARAMS[\"bce_weight\"] * binary_crossentropy(y_true, y_pred) + \\\n",
    "        (1 - PARAMS[\"bce_weight\"]) * dice_loss(y_true, y_pred)\n",
    "\n",
    "def get_model(backbone, input_shape, loss_type = \"bce_dice\", umodel = \"unet\", classes = 1, lr = PARAMS[\"lr\"]):\n",
    "    with STRATEGY.scope():\n",
    "        if loss_type == \"bce_dice\":\n",
    "            loss = bce_dice_loss\n",
    "            \n",
    "        else:\n",
    "            raise AttributeError(\"loss mode parameter error\")\n",
    "            \n",
    "        if umodel == \"unet\":\n",
    "            model = Unet(backbone_name = backbone, encoder_weights = \"imagenet\",\n",
    "                        input_shape = input_shape,\n",
    "                        classes = classes, activation = \"sigmoid\")\n",
    "        elif umodel == \"fpn\":\n",
    "            model = FPN(backbone_name = backbone, encoder_weights = \"imagenet\",\n",
    "                       input_shape = input_shape,\n",
    "                       classes = classes, activation = \"sigmoid\")\n",
    "        else:\n",
    "            raise AttributeError(\"umodel mode parameter error\")\n",
    "        \n",
    "        model.compile(\n",
    "            optimizer = tfa.optimizers.Lookahead(\n",
    "                tf.keras.optimizers.Adam(learning_rate = lr),\n",
    "                sync_period = max(6, int(PARAMS[\"patience\"] / 4))\n",
    "            ),\n",
    "            loss = loss,\n",
    "            metrics = [dice_coef]\n",
    "        )\n",
    "        return model"
   ]
  },
  {
   "cell_type": "code",
   "execution_count": null,
   "id": "acdc87e5",
   "metadata": {},
   "outputs": [],
   "source": [
    "larger = 4\n",
    "\n",
    "test_models = []\n",
    "for n_fold in list(range(PARAMS[\"folds\"])):\n",
    "    checkpoint_path = f\"{MDLS_PATH}/model_{n_fold}.hdf5\"\n",
    "    print(checkpoint_path)\n",
    "    model_lrg = get_model(\n",
    "        PARAMS[\"backbone\"],\n",
    "        input_shape = (PARAMS[\"img_size\"] * larger, PARAMS[\"img_size\"] * larger, 3),\n",
    "        loss_type = PARAMS[\"loss\"],\n",
    "        umodel = PARAMS[\"umodel\"]\n",
    "    )\n",
    "    model_lrg.load_weights(checkpoint_path) # or .set_weights(model.get_weights()) from smaller model\n",
    "    test_models.append(model_lrg)"
   ]
  },
  {
   "cell_type": "code",
   "execution_count": null,
   "id": "40a35905",
   "metadata": {},
   "outputs": [],
   "source": [
    "df_masks = pd.read_csv(f\"{DATA_PATH}/train.csv\").set_index(\"id\")\n",
    "img_num = 0\n",
    "resize = PARAMS[\"resize\"]\n",
    "shft = .6\n",
    "wnd = PARAMS[\"img_size\"] * larger\n",
    "img = tiff.imread(os.path.join(f\"{DATA_PATH}/train\", df_masks.index[img_num] + \".tiff\"))\n",
    "if len(img.shape) == 5: img = np.transpose(img.squeeze(), (1,2,0))\n",
    "mask = enc2mask(df_masks.iloc[img_num], (img.shape[1], img.shape[0]))\n",
    "print(img.shape, mask.shape)\n",
    "img = cv2.resize(img,\n",
    "                (img.shape[1] // resize, img.shape[0] // resize),\n",
    "                interpolation = cv2.INTER_AREA)\n",
    "mask = cv2.resize(mask,\n",
    "                 (mask.shape[1] // resize, mask.shape[0] // resize),\n",
    "                 interpolation = cv2.INTER_NEAREST)\n",
    "img = img[int(img.shape[0] * shft) : int(img.shape[0] * shft) + wnd,\n",
    "          int(img.shape[1] * shft) : int(img.shape[1] * shft) + wnd,\n",
    "          :]\n",
    "mask = mask[int(mask.shape[0] * shft) : int(mask.shape[0] * shft) + wnd,\n",
    "             int(mask.shape[1] * shft) : int(mask.shape[1] * shft) + wnd]\n",
    "plt.figure(figsize = (4,4))\n",
    "plt.axis(\"off\")\n",
    "plt.imshow(img)\n",
    "plt.imshow(mask, alpha = 0.4)\n",
    "plt.show()"
   ]
  },
  {
   "cell_type": "code",
   "execution_count": null,
   "id": "1a511207",
   "metadata": {},
   "outputs": [],
   "source": [
    "fig, axes = plt.subplots(figsize = (16, 4), nrows = 1, ncols = len(test_models))\n",
    "for j in range(len(test_models)):\n",
    "    mask_lrg = test_models[j].predict(img[np.newaxis,] / 255)\n",
    "    \n",
    "    axes.imshow(mask_lrg)\n",
    "    axes.imshow(np.squeeze(mask_lrg), alpha = 0.4)\n",
    "    \n",
    "    axes.set_title(f\"img {j}: {np.min(mask_lrg):.2f} - {np.max(mask_lrg):.2f}\")\n",
    "    axes.axis(\"off\")\n",
    "plt.show()"
   ]
  },
  {
   "cell_type": "code",
   "execution_count": null,
   "id": "75fe7195",
   "metadata": {
    "scrolled": true
   },
   "outputs": [],
   "source": [
    "plt.figure(figsize = (14,4))\n",
    "plt.hist(mask_lrg.flatten(), bins = 100)\n",
    "plt.show()"
   ]
  },
  {
   "cell_type": "code",
   "execution_count": null,
   "id": "133b4b66",
   "metadata": {},
   "outputs": [],
   "source": [
    "plt.figure(figsize = (14,4))\n",
    "plt.hist(np.where(mask_lrg < 10e-4, np.nan, mask_lrg).flatten(), bins = 100)\n",
    "plt.show()"
   ]
  },
  {
   "cell_type": "code",
   "execution_count": null,
   "id": "cb947593",
   "metadata": {},
   "outputs": [],
   "source": []
  }
 ],
 "metadata": {
  "kernelspec": {
   "display_name": "Python 3",
   "language": "python",
   "name": "python3"
  },
  "language_info": {
   "codemirror_mode": {
    "name": "ipython",
    "version": 3
   },
   "file_extension": ".py",
   "mimetype": "text/x-python",
   "name": "python",
   "nbconvert_exporter": "python",
   "pygments_lexer": "ipython3",
   "version": "3.7.10"
  }
 },
 "nbformat": 4,
 "nbformat_minor": 5
}
