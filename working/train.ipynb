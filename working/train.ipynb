{
 "cells": [
  {
   "cell_type": "code",
   "execution_count": 1,
   "id": "848eff67",
   "metadata": {},
   "outputs": [
    {
     "name": "stdout",
     "output_type": "stream",
     "text": [
      "env: SM_FRAMEWORK=tf.keras\n",
      "INFO:tensorflow:Enabling eager execution\n",
      "INFO:tensorflow:Enabling v2 tensorshape\n",
      "INFO:tensorflow:Enabling resource variables\n",
      "INFO:tensorflow:Enabling tensor equality\n",
      "INFO:tensorflow:Enabling control flow v2\n",
      "[name: \"/device:CPU:0\"\n",
      "device_type: \"CPU\"\n",
      "memory_limit: 268435456\n",
      "locality {\n",
      "}\n",
      "incarnation: 1540934545459506749\n",
      ", name: \"/device:GPU:0\"\n",
      "device_type: \"GPU\"\n",
      "memory_limit: 9393471488\n",
      "locality {\n",
      "  bus_id: 1\n",
      "  links {\n",
      "  }\n",
      "}\n",
      "incarnation: 14061949564366729641\n",
      "physical_device_desc: \"device: 0, name: NVIDIA GeForce RTX 2080 Ti, pci bus id: 0000:04:00.0, compute capability: 7.5\"\n",
      "]\n"
     ]
    }
   ],
   "source": [
    "%env SM_FRAMEWORK=tf.keras\n",
    "from IPython.core.interactiveshell import InteractiveShell\n",
    "InteractiveShell.ast_node_interactivity = 'all'\n",
    "import os\n",
    "os.environ['TF_MIN_GPU_MULTIPROCESSOR_COUNT']='4'\n",
    "os.environ['CUDA_VISIBLE_DEVICES'] = '1'\n",
    "from tensorflow.python.client import device_lib\n",
    "print(device_lib.list_local_devices())"
   ]
  },
  {
   "cell_type": "code",
   "execution_count": 2,
   "id": "faa141b5",
   "metadata": {},
   "outputs": [
    {
     "name": "stdout",
     "output_type": "stream",
     "text": [
      "Segmentation Models: using `tf.keras` framework.\n",
      "tensorflow version: 2.6.0-dev20210407\n",
      "device available: PhysicalDevice(name='/physical_device:GPU:0', device_type='GPU')\n",
      "INFO:tensorflow:Mixed precision compatibility check (mixed_float16): OK\n",
      "Your GPU will likely run quickly with dtype policy mixed_float16 as it has compute capability of at least 7.0. Your GPU: NVIDIA GeForce RTX 2080 Ti, compute capability 7.5\n",
      "WARNING:tensorflow:From C:\\Users\\apist\\anaconda3\\envs\\tfgpu3\\lib\\site-packages\\tensorflow\\python\\keras\\mixed_precision\\loss_scale.py:51: DynamicLossScale.__init__ (from tensorflow.python.training.experimental.loss_scale) is deprecated and will be removed in a future version.\n",
      "Instructions for updating:\n",
      "Use tf.keras.mixed_precision.LossScaleOptimizer instead. LossScaleOptimizer now has all the functionality of DynamicLossScale\n"
     ]
    }
   ],
   "source": [
    "import warnings\n",
    "warnings.filterwarnings(\"ignore\")\n",
    "import os\n",
    "import gc\n",
    "import cv2\n",
    "import json\n",
    "import time\n",
    "import random\n",
    "import numpy as np\n",
    "import pandas as pd\n",
    "import tifffile as tiff\n",
    "import tensorflow as tf\n",
    "import tensorflow_addons as tfa\n",
    "import matplotlib.pyplot as plt\n",
    "import albumentations as albu\n",
    "from sklearn.model_selection import train_test_split, KFold, GroupKFold\n",
    "import tensorflow.keras.backend as K\n",
    "from tensorflow.keras import Model, Sequential\n",
    "from tensorflow.keras.models import load_model\n",
    "from tensorflow.keras.utils import Sequence\n",
    "from tensorflow.keras.losses import binary_crossentropy\n",
    "from tensorflow.keras.layers import *\n",
    "from tensorflow.keras.optimizers import Adam, SGD\n",
    "from tensorflow.keras.callbacks import *\n",
    "import segmentation_models as sm\n",
    "from segmentation_models import Unet, FPN\n",
    "from segmentation_models.losses import bce_jaccard_loss\n",
    "print(\"tensorflow version:\", tf.__version__)\n",
    "gpu_devices = tf.config.experimental.list_physical_devices(\"GPU\")\n",
    "if gpu_devices:\n",
    "    for gpu_device in gpu_devices:\n",
    "        print(\"device available:\", gpu_device)\n",
    "policy = tf.keras.mixed_precision.experimental.Policy(\"mixed_float16\")\n",
    "tf.keras.mixed_precision.experimental.set_policy(policy)\n",
    "pd.set_option(\"display.max_columns\", None)"
   ]
  },
  {
   "cell_type": "code",
   "execution_count": 3,
   "id": "numerous-delight",
   "metadata": {},
   "outputs": [
    {
     "name": "stdout",
     "output_type": "stream",
     "text": [
      "GPU 0: NVIDIA GeForce RTX 2080 Ti (UUID: GPU-9719cbce-a56b-1f7d-efd5-519baafcfaef)\n",
      "GPU 1: NVIDIA GeForce RTX 3090 (UUID: GPU-0b211566-f864-21f7-b80e-db06ced5fe0d)\n"
     ]
    }
   ],
   "source": [
    "!nvidia-smi -L"
   ]
  },
  {
   "cell_type": "code",
   "execution_count": null,
   "id": "liable-commonwealth",
   "metadata": {},
   "outputs": [],
   "source": []
  },
  {
   "cell_type": "code",
   "execution_count": 4,
   "id": "eb76e3a7",
   "metadata": {},
   "outputs": [],
   "source": [
    "VER = \"v08\"\n",
    "PARAMS = {\n",
    "    \"version\": VER,\n",
    "    \"folds\": 1,\n",
    "    \"img_size\": 256,\n",
    "    \"resize\": 4,\n",
    "    \"batch_size\" : 16,\n",
    "    \"epochs\": 100,\n",
    "    \"patience\": 20,\n",
    "    \"backbone\": \"efficientnetb0\",# efficientnetbX, resnet34/50, resnext50, seresnet34, seresnext\n",
    "    \"loss\": \"bce_dice\",\n",
    "    \"mirror\": False,\n",
    "    \"umodel\" : \"unet\",\n",
    "    \"bce_weight\": 1.,\n",
    "    \"shift\": True,\n",
    "    \"pseudo\":\"\",\n",
    "    \"lr\": 0.0002\n",
    "}\n",
    "DATA_PATH = \"../input/hubmap-kidney-segmentation\"\n",
    "\n",
    "\n",
    "IMGS_PATH = f\"{DATA_PATH}/tiles_r\"\n",
    "MASKS_PATH = f\"{DATA_PATH}/masks_r\"\n",
    "\n",
    "MDLS_PATH = f\"./models_{VER}\"\n",
    "if not os.path.exists(MDLS_PATH):\n",
    "    os.mkdir(MDLS_PATH)\n",
    "with open(f\"{MDLS_PATH}/params.json\", \"w\") as file:\n",
    "    json.dump(PARAMS,file)\n",
    "        \n",
    "\n",
    "if not PARAMS[\"mirror\"]:\n",
    "    os.environ[\"CUDA_VISIBLE_DEVICES\"] = \"0\"\n",
    "    STRATEGY = tf.distribute.get_strategy()\n",
    "else:\n",
    "    STRATEGY = tf.distribute.MirroredStrategy()"
   ]
  },
  {
   "cell_type": "code",
   "execution_count": 5,
   "id": "dress-stereo",
   "metadata": {},
   "outputs": [
    {
     "name": "stdout",
     "output_type": "stream",
     "text": [
      "False\n"
     ]
    }
   ],
   "source": [
    "print(PARAMS[\"pseudo\"] == True)"
   ]
  },
  {
   "cell_type": "code",
   "execution_count": 6,
   "id": "constant-compensation",
   "metadata": {},
   "outputs": [],
   "source": [
    "df_masks = pd.read_csv(f\"{DATA_PATH}/train.csv\").set_index(\"id\")\n"
   ]
  },
  {
   "cell_type": "code",
   "execution_count": 7,
   "id": "organic-tenant",
   "metadata": {},
   "outputs": [],
   "source": [
    "def enc2mask(encs, shape):\n",
    "    img = np.zeros(shape[0] * shape[1])\n",
    "    for m, enc in enumerate(encs):\n",
    "        if isinstance(enc,np.float) and np.isnan(enc): continue\n",
    "        s = enc.split()\n",
    "        for i in range(len(s) // 2):\n",
    "            start = int(s[2 * i]) - 1\n",
    "            length = int(s[ 2 * i + 1])\n",
    "            img[start : start + length] = 1 + m\n",
    "        return img.reshape(shape).T\n",
    "\n",
    "def show_img_n_mask(df, img_num, resize):\n",
    "    img = tiff.imread(os.path.join(f'{DATA_PATH}/train', df.index[img_num] + '.tiff'))\n",
    "    if len(img.shape) == 5:\n",
    "        img = (np.transpose(img.squeeze(), (1,2,0)))\n",
    "    mask = enc2mask(df.iloc[img_num], (img.shape[1], img.shape[0]))\n",
    "    print(img.shape, mask.shape)\n",
    "    img = cv2.resize(img,\n",
    "                    (img.shape[1] // reize, img.shape[0] // resize),\n",
    "                     interpolation = cv2.INTER_NEAREST)\n",
    "    plt.figure(figsize = (8,8))\n",
    "    plt.axis(\"off\")\n",
    "    plt.imshow(img)\n",
    "    plt.imshow(mask, alpha= 0.4)\n",
    "    plt.show()\n",
    "\n"
   ]
  },
  {
   "cell_type": "code",
   "execution_count": 8,
   "id": "electric-literature",
   "metadata": {},
   "outputs": [],
   "source": [
    "class DataGenKid(Sequence):\n",
    "    \n",
    "    def __init__(self, imgs_path, msks_path, imgs_idxs, img_size, batch_size, mode):\n",
    "        self.imgs_path = imgs_path\n",
    "        self.msks_path = msks_path\n",
    "        self.imgs_idxs = imgs_idxs\n",
    "        self.img_size = img_size\n",
    "        self.batch_size = batch_size\n",
    "        self.mode = mode\n",
    "        \n",
    "        return None\n",
    "    \n",
    "    def __len__(self):\n",
    "        return int(np.floor(len(self.imgs_idxs) / self.batch_size))\n",
    "    \n",
    "    def on_epoch_end(self):\n",
    "        self.indexes = np.arange(len(self.imgs_idxs))\n",
    "    \n",
    "    def __getitem__(self, index):\n",
    "        batch_size = min(self.batch_size, len(self.imgs_idxs) - index * self.batch_size)\n",
    "        X = np.zeros((batch_size, self.img_size, self.img_size, 3), dtype = np.float32)\n",
    "        imgs_batch = self.imgs_idxs[index * self.batch_size : (index + 1) * self.batch_size]\n",
    "        if self.mode == \"fit\":\n",
    "            y = np.zeros((batch_size, self.img_size, self.img_size), dtype = np.float32)\n",
    "            for i, img_idx in enumerate(imgs_batch):\n",
    "                X[i, ], y[i] = self.get_tile(img_idx)\n",
    "            return X,y\n",
    "        elif self.mode == \"predict\":\n",
    "            for i, img_idx in enumerate(imgs_batch):\n",
    "                X[i, ] = self.get_tile(img_idx)\n",
    "            return X\n",
    "        else:\n",
    "            raise AttributeError(\"Fit mode parameter error\")\n",
    "            \n",
    "    def get_tile(self, img_idx):\n",
    "        img_path = f\"{self.imgs_path}/{img_idx}.png\"\n",
    "        img = cv2.imread(img_path)\n",
    "        if img is None:\n",
    "            print(f\"error loading image: {image_path}\")\n",
    "        img = img.astype(np.float32) / 255\n",
    "        if self.mode == \"fit\":\n",
    "            msk_path = f\"{self.msks_path}/{img_idx}.png\"\n",
    "            msk = cv2.imread(msk_path, cv2.IMREAD_GRAYSCALE)\n",
    "            if msk is None:\n",
    "                print(f\"error loading mask: {msk_path}\")\n",
    "            return img, msk\n",
    "        else:\n",
    "            return img\n",
    "        "
   ]
  },
  {
   "cell_type": "code",
   "execution_count": 9,
   "id": "natural-lending",
   "metadata": {},
   "outputs": [],
   "source": [
    "imgs_idxs = [x.replace(\".png\", \"\") for x in os.listdir(IMGS_PATH) if \"png\" in x]\n",
    "train_datagen = DataGenKid(\n",
    "        imgs_path = IMGS_PATH,\n",
    "        msks_path = MASKS_PATH,\n",
    "        imgs_idxs = imgs_idxs,\n",
    "        img_size = PARAMS[\"img_size\"],\n",
    "        batch_size = PARAMS[\"batch_size\"],\n",
    "        mode = \"fit\"\n",
    ")\n",
    "\n",
    "val_datagen = DataGenKid(\n",
    "        imgs_path = IMGS_PATH,\n",
    "        msks_path = MASKS_PATH,\n",
    "        imgs_idxs = imgs_idxs,\n",
    "        img_size = PARAMS[\"img_size\"],\n",
    "        batch_size = PARAMS[\"batch_size\"],\n",
    "        mode = \"fit\"\n",
    ")"
   ]
  },
  {
   "cell_type": "code",
   "execution_count": 10,
   "id": "dried-headline",
   "metadata": {},
   "outputs": [],
   "source": [
    "def dice_coef(y_true, y_pred, smooth = 1):\n",
    "    y_true_f = K.flatten(y_true)\n",
    "    y_pred_f = K.flatten(y_pred)\n",
    "    intersection = K.sum(y_true_f * y_pred_f)\n",
    "    return (2 * intersection + smooth) / (K.sum(y_true_f) + K.sum(y_pred_f) + smooth)\n",
    "\n",
    "def dice_loss(y_true, y_pred, smooth = 1):\n",
    "    return (1 - dice_coef(y_true, y_pred))\n",
    "\n",
    "def bce_dice_loss(y_true, y_pred):\n",
    "    return PARAMS[\"bce_weight\"] * binary_crossentropy(y_true, y_pred) + \\\n",
    "        (1 - PARAMS[\"bce_weight\"]) * dice_loss(y_true, y_pred)\n",
    "\n",
    "def get_model(backbone, input_shape, loss_type = \"bce_dice\", umodel = \"unet\", classes = 1, lr = .001):\n",
    "    with STRATEGY.scope():\n",
    "        if loss_type == \"bce_dice\":\n",
    "            loss = bce_dice_loss\n",
    "        \n",
    "        # TODO: Implement other bce_jaccard_loss\n",
    "            \n",
    "        else: \n",
    "            raise AttributeError(\"loss mode parameter error\")\n",
    "        \n",
    "        if umodel == \"unet\":\n",
    "            model = Unet(backbone_name = backbone, encoder_weights = \"imagenet\",\n",
    "                        input_shape = input_shape, classes = classes, activation = \"sigmoid\")\n",
    "            \n",
    "        elif umodel == \"fpn\":\n",
    "            model = FPN(backbone_name = backbone, encoder_weights = \"imagemet\",\n",
    "                       input_shape = input_shape,\n",
    "                       classes = classes, activation = \"sigmoid\")\n",
    "        \n",
    "        else:\n",
    "            raise AttributeError(\"umodel mode parameter error\")\n",
    "            \n",
    "        model.compile(\n",
    "            optimizer = tfa.optimizers.Lookahead(\n",
    "                tf.keras.optimizers.Adam(learning_rate = lr),\n",
    "                sync_period = max(6, int(PARAMS[\"patience\"] / 4))\n",
    "            ),\n",
    "            loss = loss,\n",
    "            metrics = [dice_coef]\n",
    "        )\n",
    "        return model"
   ]
  },
  {
   "cell_type": "markdown",
   "id": "structured-certificate",
   "metadata": {},
   "source": [
    "## Train"
   ]
  },
  {
   "cell_type": "code",
   "execution_count": 11,
   "id": "light-criterion",
   "metadata": {},
   "outputs": [],
   "source": [
    "def train_model(mparams, n_fold, train_datagen, val_datagen):\n",
    "    model = get_model(\n",
    "        mparams[\"backbone\"],\n",
    "        input_shape = (mparams[\"img_size\"], mparams[\"img_size\"], 3),\n",
    "        loss_type = mparams[\"loss\"],\n",
    "        umodel = mparams[\"umodel\"],\n",
    "        lr = mparams[\"lr\"]\n",
    "    )\n",
    "    checkpoint_path = f\"{MDLS_PATH}/model_{n_fold}.hdf5\"\n",
    "    earlystopper = EarlyStopping (\n",
    "        monitor = \"val_dice_coef\",\n",
    "        patience = mparams[\"patience\"],\n",
    "        verbose = 0,\n",
    "        restore_best_weights = True,\n",
    "        mode = \"max\"\n",
    "    )\n",
    "    lrreducer = ReduceLROnPlateau(\n",
    "        monitor = \"val_dice_coef\",\n",
    "        factor = .1,\n",
    "        patience = int(mparams[\"patience\"] / 2),\n",
    "        verbose = 0,\n",
    "        min_lr = 1e-7,\n",
    "        mode = \"max\"\n",
    "    )\n",
    "    checkpointer = ModelCheckpoint(\n",
    "        checkpoint_path,\n",
    "        monitor = \"val_dice_coef\",\n",
    "        verbose = 0,\n",
    "        save_best_only = True,\n",
    "        save_weights_only = True,\n",
    "        mode = \"max\"\n",
    "    )\n",
    "    callbacks = [earlystopper, checkpointer]\n",
    "    callbacks.append(lrreducer)\n",
    "    print(\"lr reduce on plateau\")\n",
    "    history = model.fit(\n",
    "        train_datagen,\n",
    "        validation_data = val_datagen,\n",
    "        callbacks = callbacks,\n",
    "        epochs = mparams[\"epochs\"],\n",
    "        verbose = 1\n",
    "    )\n",
    "    history_file = f\"{MDLS_PATH}/history_{n_fold}.json\"\n",
    "    dict_to_save = {}\n",
    "    for k,v in history.history.items():\n",
    "        dict_to_save.update({k: [np.format_float_positional(x) for x in history.history[k]]})\n",
    "    with open(history_file, \"w\") as file:\n",
    "        json.dump(dict_to_save, file)\n",
    "    model.load_weights(checkpoint_path)\n",
    "    return model,history\n",
    "    "
   ]
  },
  {
   "cell_type": "code",
   "execution_count": 12,
   "id": "delayed-debut",
   "metadata": {},
   "outputs": [
    {
     "name": "stdout",
     "output_type": "stream",
     "text": [
      "WARNING:tensorflow:tf.keras.mixed_precision.experimental.LossScaleOptimizer is deprecated. Please use tf.keras.mixed_precision.LossScaleOptimizer instead. Note that the non-experimental LossScaleOptimizer does not take a DynamicLossScale but instead takes the dynamic configuration directly in the constructor. For example:\n",
      "  opt = tf.keras.mixed_precision.LossScaleOptimizer(opt)\n",
      "\n",
      "lr reduce on plateau\n",
      "Epoch 1/100\n",
      "1251/1251 [==============================] - 290s 209ms/step - loss: 0.5531 - dice_coef: 0.0897 - val_loss: 0.4101 - val_dice_coef: 0.1179\n",
      "Epoch 2/100\n",
      "1251/1251 [==============================] - 256s 204ms/step - loss: 0.4302 - dice_coef: 0.1163 - val_loss: 0.3933 - val_dice_coef: 0.1177\n",
      "Epoch 3/100\n",
      "1251/1251 [==============================] - 253s 203ms/step - loss: 0.4185 - dice_coef: 0.1170 - val_loss: 0.3864 - val_dice_coef: 0.1156\n",
      "Epoch 4/100\n",
      "1251/1251 [==============================] - 254s 203ms/step - loss: 0.4050 - dice_coef: 0.1105 - val_loss: 0.3459 - val_dice_coef: 0.1260\n",
      "Epoch 5/100\n",
      "1251/1251 [==============================] - 363s 290ms/step - loss: 0.2832 - dice_coef: 0.1779 - val_loss: 0.1735 - val_dice_coef: 0.0277\n",
      "Epoch 6/100\n",
      "1251/1251 [==============================] - 424s 339ms/step - loss: 0.0428 - dice_coef: 0.4465 - val_loss: 0.0227 - val_dice_coef: 0.5840\n",
      "Epoch 7/100\n",
      "1251/1251 [==============================] - 410s 328ms/step - loss: 0.0286 - dice_coef: 0.5453 - val_loss: 0.0269 - val_dice_coef: 0.6586\n",
      "Epoch 8/100\n",
      "1251/1251 [==============================] - 382s 305ms/step - loss: 0.0256 - dice_coef: 0.5950 - val_loss: 0.0216 - val_dice_coef: 0.6406\n",
      "Epoch 9/100\n",
      "1251/1251 [==============================] - 383s 306ms/step - loss: 0.0199 - dice_coef: 0.6132 - val_loss: 0.0184 - val_dice_coef: 0.6774\n",
      "Epoch 10/100\n",
      "1251/1251 [==============================] - 350s 279ms/step - loss: 0.0180 - dice_coef: 0.6269 - val_loss: 0.0371 - val_dice_coef: 0.5464\n",
      "Epoch 11/100\n",
      "1251/1251 [==============================] - 353s 282ms/step - loss: 0.0179 - dice_coef: 0.6505 - val_loss: 0.0351 - val_dice_coef: 0.6018\n",
      "Epoch 12/100\n",
      "1251/1251 [==============================] - 325s 260ms/step - loss: 0.0156 - dice_coef: 0.6562 - val_loss: 0.0188 - val_dice_coef: 0.6916\n",
      "Epoch 13/100\n",
      "1251/1251 [==============================] - 323s 258ms/step - loss: 0.0158 - dice_coef: 0.6570 - val_loss: 0.0166 - val_dice_coef: 0.6914\n",
      "Epoch 14/100\n",
      "1251/1251 [==============================] - 363s 290ms/step - loss: 0.0147 - dice_coef: 0.6588 - val_loss: 0.0153 - val_dice_coef: 0.6724\n",
      "Epoch 15/100\n",
      "1251/1251 [==============================] - 329s 263ms/step - loss: 0.0153 - dice_coef: 0.6685 - val_loss: 0.0204 - val_dice_coef: 0.6793\n",
      "Epoch 16/100\n",
      "1251/1251 [==============================] - 300s 240ms/step - loss: 0.0160 - dice_coef: 0.6755 - val_loss: 0.0189 - val_dice_coef: 0.6640\n",
      "Epoch 17/100\n",
      "1251/1251 [==============================] - 303s 243ms/step - loss: 0.0185 - dice_coef: 0.6569 - val_loss: 0.0199 - val_dice_coef: 0.6625\n",
      "Epoch 18/100\n",
      "1251/1251 [==============================] - 295s 236ms/step - loss: 0.0162 - dice_coef: 0.6755 - val_loss: 0.0143 - val_dice_coef: 0.7117\n",
      "Epoch 19/100\n",
      "1251/1251 [==============================] - 291s 233ms/step - loss: 0.0163 - dice_coef: 0.6913 - val_loss: 0.0154 - val_dice_coef: 0.6964\n",
      "Epoch 20/100\n",
      "1251/1251 [==============================] - 285s 228ms/step - loss: 0.0156 - dice_coef: 0.6813 - val_loss: 0.0196 - val_dice_coef: 0.7208\n",
      "Epoch 21/100\n",
      "1251/1251 [==============================] - 281s 225ms/step - loss: 0.0187 - dice_coef: 0.6923 - val_loss: 0.0235 - val_dice_coef: 0.6395\n",
      "Epoch 22/100\n",
      "1251/1251 [==============================] - 288s 230ms/step - loss: 0.0186 - dice_coef: 0.6814 - val_loss: 0.0226 - val_dice_coef: 0.6442\n",
      "Epoch 23/100\n",
      "1251/1251 [==============================] - 283s 227ms/step - loss: 0.0183 - dice_coef: 0.6881 - val_loss: 0.0348 - val_dice_coef: 0.5528\n",
      "Epoch 24/100\n",
      "1251/1251 [==============================] - 280s 224ms/step - loss: 0.0183 - dice_coef: 0.6837 - val_loss: 0.0235 - val_dice_coef: 0.6446\n",
      "Epoch 25/100\n",
      "1251/1251 [==============================] - 280s 223ms/step - loss: 0.0172 - dice_coef: 0.6921 - val_loss: 0.0201 - val_dice_coef: 0.6704\n",
      "Epoch 26/100\n",
      "1251/1251 [==============================] - 279s 223ms/step - loss: 0.0190 - dice_coef: 0.6708 - val_loss: 0.0196 - val_dice_coef: 0.6917\n",
      "Epoch 27/100\n",
      "1251/1251 [==============================] - 274s 219ms/step - loss: 0.0184 - dice_coef: 0.6831 - val_loss: 0.0341 - val_dice_coef: 0.5842\n",
      "Epoch 28/100\n",
      "1251/1251 [==============================] - 276s 221ms/step - loss: 0.0286 - dice_coef: 0.6489 - val_loss: 0.0334 - val_dice_coef: 0.6448\n",
      "Epoch 29/100\n",
      "1251/1251 [==============================] - 274s 219ms/step - loss: 0.0311 - dice_coef: 0.6590 - val_loss: 0.0499 - val_dice_coef: 0.5256\n",
      "Epoch 30/100\n",
      "1251/1251 [==============================] - 246s 197ms/step - loss: 0.0467 - dice_coef: 0.6261 - val_loss: 0.0393 - val_dice_coef: 0.6300\n",
      "Epoch 31/100\n",
      "1251/1251 [==============================] - 247s 197ms/step - loss: 0.0468 - dice_coef: 0.6293 - val_loss: 0.0382 - val_dice_coef: 0.6297\n",
      "Epoch 32/100\n",
      "1251/1251 [==============================] - 264s 211ms/step - loss: 0.0440 - dice_coef: 0.6501 - val_loss: 0.0299 - val_dice_coef: 0.6454\n",
      "Epoch 33/100\n",
      "1251/1251 [==============================] - 273s 218ms/step - loss: 0.0319 - dice_coef: 0.6494 - val_loss: 0.0298 - val_dice_coef: 0.6439\n",
      "Epoch 34/100\n",
      "1251/1251 [==============================] - 273s 218ms/step - loss: 0.0316 - dice_coef: 0.6592 - val_loss: 0.0303 - val_dice_coef: 0.6350\n",
      "Epoch 35/100\n",
      "1251/1251 [==============================] - 268s 214ms/step - loss: 0.0305 - dice_coef: 0.6579 - val_loss: 0.0309 - val_dice_coef: 0.6310\n",
      "Epoch 36/100\n",
      "1251/1251 [==============================] - 267s 213ms/step - loss: 0.0295 - dice_coef: 0.6400 - val_loss: 0.0313 - val_dice_coef: 0.6375\n",
      "Epoch 37/100\n",
      "1251/1251 [==============================] - 267s 214ms/step - loss: 0.0301 - dice_coef: 0.6492 - val_loss: 0.0259 - val_dice_coef: 0.6541\n",
      "Epoch 38/100\n",
      "1251/1251 [==============================] - 375s 299ms/step - loss: 0.0250 - dice_coef: 0.6612 - val_loss: 0.0266 - val_dice_coef: 0.6558\n",
      "Epoch 39/100\n",
      "1251/1251 [==============================] - 311s 248ms/step - loss: 0.0252 - dice_coef: 0.6804 - val_loss: 0.0277 - val_dice_coef: 0.6499\n",
      "Epoch 40/100\n",
      "1251/1251 [==============================] - 269s 215ms/step - loss: 0.0255 - dice_coef: 0.6737 - val_loss: 0.0256 - val_dice_coef: 0.6610\n"
     ]
    }
   ],
   "source": [
    "model, history = train_model(PARAMS, 1, train_datagen, val_datagen)"
   ]
  },
  {
   "cell_type": "code",
   "execution_count": 13,
   "id": "sapphire-contact",
   "metadata": {},
   "outputs": [
    {
     "data": {
      "text/plain": [
       "[<matplotlib.lines.Line2D at 0x1e558722a88>]"
      ]
     },
     "execution_count": 13,
     "metadata": {},
     "output_type": "execute_result"
    },
    {
     "data": {
      "text/plain": [
       "[<matplotlib.lines.Line2D at 0x1e5586b9f88>]"
      ]
     },
     "execution_count": 13,
     "metadata": {},
     "output_type": "execute_result"
    },
    {
     "data": {
      "text/plain": [
       "<matplotlib.legend.Legend at 0x1e55872e048>"
      ]
     },
     "execution_count": 13,
     "metadata": {},
     "output_type": "execute_result"
    },
    {
     "data": {
      "image/png": "[encoded data removed]",
      "text/plain": [
       "<Figure size 432x288 with 1 Axes>"
      ]
     },
     "metadata": {
      "needs_background": "light"
     },
     "output_type": "display_data"
    },
    {
     "data": {
      "text/plain": [
       "[<matplotlib.lines.Line2D at 0x1e55884d2c8>]"
      ]
     },
     "execution_count": 13,
     "metadata": {},
     "output_type": "execute_result"
    },
    {
     "data": {
      "text/plain": [
       "[<matplotlib.lines.Line2D at 0x1e558798e48>]"
      ]
     },
     "execution_count": 13,
     "metadata": {},
     "output_type": "execute_result"
    },
    {
     "data": {
      "text/plain": [
       "<matplotlib.legend.Legend at 0x1e558669bc8>"
      ]
     },
     "execution_count": 13,
     "metadata": {},
     "output_type": "execute_result"
    },
    {
     "data": {
      "image/png": "[encoded data removed]",
      "text/plain": [
       "<Figure size 432x288 with 1 Axes>"
      ]
     },
     "metadata": {
      "needs_background": "light"
     },
     "output_type": "display_data"
    },
    {
     "name": "stdout",
     "output_type": "stream",
     "text": [
      "\n",
      "best epoch: 19 \n",
      "\n",
      "best loss: 0.019594157114624977 \n",
      "\n",
      "best dice coeff: 0.7208414077758789\n",
      "\n"
     ]
    }
   ],
   "source": [
    "plt.plot(history.history[\"loss\"], label = \"loss\")\n",
    "plt.plot(history.history[\"val_loss\"], label = \"val_loss\")\n",
    "plt.legend()\n",
    "plt.show()\n",
    "plt.plot(history.history[\"dice_coef\"], label = \"dice_coeff\")\n",
    "plt.plot(history.history[\"val_dice_coef\"], label = \"val_dice_coef\")\n",
    "plt.legend()\n",
    "plt.show()\n",
    "best_epoch = np.argmax(history.history[\"val_dice_coef\"])\n",
    "best_loss = history.history[\"val_loss\"][best_epoch]\n",
    "best_dice_coef = history.history[\"val_dice_coef\"] [best_epoch]\n",
    "print(f\"\"\"\n",
    "best epoch: {best_epoch} \\n\n",
    "best loss: {best_loss} \\n\n",
    "best dice coeff: {best_dice_coef}\n",
    "\"\"\")"
   ]
  },
  {
   "cell_type": "code",
   "execution_count": 14,
   "id": "administrative-australia",
   "metadata": {},
   "outputs": [],
   "source": [
    "result = PARAMS.copy()\n",
    "result[\"best_epoch\"] = np.mean([best_epoch])\n",
    "result[\"best_loss\"] = np.mean([best_loss])\n",
    "result[\"best_dice_coef\"] = np.mean([best_dice_coef])\n",
    "with open(f'{MDLS_PATH}/params.json', \"w\") as file:\n",
    "    json.dump(result,file)\n",
    "if not os.path.exists(\"results.csv\"):\n",
    "    df_save = pd.DataFrame(result, index = [0])\n",
    "    df_save.to_csv(\"results.csv\", sep= \"\\t\")\n",
    "else:\n",
    "    df_old = pd.read_csv(\"results.csv\", sep = \"\\t\")\n",
    "    df_save = pd.DataFrame(result, index= [df_old.index.max() + 1])\n",
    "    df_save = df_old.append(df_save, ignore_index = True)\n",
    "    df_save.to_csv(\"results.csv\", sep = \"\\t\")"
   ]
  },
  {
   "cell_type": "code",
   "execution_count": 15,
   "id": "identified-dublin",
   "metadata": {},
   "outputs": [
    {
     "data": {
      "text/html": [
       "<div>\n",
       "<style scoped>\n",
       "    .dataframe tbody tr th:only-of-type {\n",
       "        vertical-align: middle;\n",
       "    }\n",
       "\n",
       "    .dataframe tbody tr th {\n",
       "        vertical-align: top;\n",
       "    }\n",
       "\n",
       "    .dataframe thead th {\n",
       "        text-align: right;\n",
       "    }\n",
       "</style>\n",
       "<table border=\"1\" class=\"dataframe\">\n",
       "  <thead>\n",
       "    <tr style=\"text-align: right;\">\n",
       "      <th></th>\n",
       "      <th>Unnamed: 0.1</th>\n",
       "      <th>version</th>\n",
       "      <th>folds</th>\n",
       "      <th>img_size</th>\n",
       "      <th>resize</th>\n",
       "      <th>batch_size</th>\n",
       "      <th>epochs</th>\n",
       "      <th>patience</th>\n",
       "      <th>backbone</th>\n",
       "      <th>loss</th>\n",
       "      <th>mirror</th>\n",
       "      <th>umodel</th>\n",
       "      <th>bce_weight</th>\n",
       "      <th>shift</th>\n",
       "      <th>pseudo</th>\n",
       "      <th>lr</th>\n",
       "      <th>best_epoch</th>\n",
       "      <th>best_loss</th>\n",
       "      <th>best_dice_coef</th>\n",
       "    </tr>\n",
       "  </thead>\n",
       "  <tbody>\n",
       "    <tr>\n",
       "      <th>0</th>\n",
       "      <td>0.0</td>\n",
       "      <td>v05</td>\n",
       "      <td>6</td>\n",
       "      <td>256</td>\n",
       "      <td>4</td>\n",
       "      <td>20</td>\n",
       "      <td>2</td>\n",
       "      <td>20</td>\n",
       "      <td>efficientnetb2</td>\n",
       "      <td>bce_dice</td>\n",
       "      <td>False</td>\n",
       "      <td>unet</td>\n",
       "      <td>1.0</td>\n",
       "      <td>True</td>\n",
       "      <td>NaN</td>\n",
       "      <td>0.0002</td>\n",
       "      <td>1.0</td>\n",
       "      <td>0.022014</td>\n",
       "      <td>0.630520</td>\n",
       "    </tr>\n",
       "    <tr>\n",
       "      <th>1</th>\n",
       "      <td>NaN</td>\n",
       "      <td>v08</td>\n",
       "      <td>1</td>\n",
       "      <td>256</td>\n",
       "      <td>4</td>\n",
       "      <td>16</td>\n",
       "      <td>100</td>\n",
       "      <td>20</td>\n",
       "      <td>efficientnetb0</td>\n",
       "      <td>bce_dice</td>\n",
       "      <td>False</td>\n",
       "      <td>unet</td>\n",
       "      <td>1.0</td>\n",
       "      <td>True</td>\n",
       "      <td>NaN</td>\n",
       "      <td>0.0002</td>\n",
       "      <td>19.0</td>\n",
       "      <td>0.019594</td>\n",
       "      <td>0.720841</td>\n",
       "    </tr>\n",
       "  </tbody>\n",
       "</table>\n",
       "</div>"
      ],
      "text/plain": [
       "   Unnamed: 0.1 version  folds  img_size  resize  batch_size  epochs  \\\n",
       "0           0.0     v05      6       256       4          20       2   \n",
       "1           NaN     v08      1       256       4          16     100   \n",
       "\n",
       "   patience        backbone      loss  mirror umodel  bce_weight  shift  \\\n",
       "0        20  efficientnetb2  bce_dice   False   unet         1.0   True   \n",
       "1        20  efficientnetb0  bce_dice   False   unet         1.0   True   \n",
       "\n",
       "   pseudo      lr  best_epoch  best_loss  best_dice_coef  \n",
       "0     NaN  0.0002         1.0   0.022014        0.630520  \n",
       "1     NaN  0.0002        19.0   0.019594        0.720841  "
      ]
     },
     "execution_count": 15,
     "metadata": {},
     "output_type": "execute_result"
    }
   ],
   "source": [
    "pd.read_csv(\"results.csv\", sep = \"\\t\", index_col=0)"
   ]
  },
  {
   "cell_type": "markdown",
   "id": "wired-diameter",
   "metadata": {},
   "source": [
    "## Predict"
   ]
  },
  {
   "cell_type": "code",
   "execution_count": 16,
   "id": "attractive-produce",
   "metadata": {},
   "outputs": [
    {
     "name": "stdout",
     "output_type": "stream",
     "text": [
      "./models_v08/model_1.hdf5\n",
      "WARNING:tensorflow:tf.keras.mixed_precision.experimental.LossScaleOptimizer is deprecated. Please use tf.keras.mixed_precision.LossScaleOptimizer instead. Note that the non-experimental LossScaleOptimizer does not take a DynamicLossScale but instead takes the dynamic configuration directly in the constructor. For example:\n",
      "  opt = tf.keras.mixed_precision.LossScaleOptimizer(opt)\n",
      "\n"
     ]
    }
   ],
   "source": [
    "n_fold = 1\n",
    "larger = 4\n",
    "test_models = []\n",
    "checkpoint_path = f\"{MDLS_PATH}/model_{n_fold}.hdf5\"\n",
    "print(checkpoint_path)\n",
    "model_lrg = get_model (\n",
    "    PARAMS[\"backbone\"],\n",
    "    input_shape = (PARAMS[\"img_size\"] * larger, PARAMS[\"img_size\"] * larger, 3),\n",
    "    loss_type = PARAMS[\"loss\"],\n",
    "    umodel = PARAMS[\"umodel\"]\n",
    ")\n",
    "model_lrg.load_weights(checkpoint_path) # or .set_weights(model.get_weights()) from smaller model\n",
    "test_models.append(model_lrg)"
   ]
  },
  {
   "cell_type": "code",
   "execution_count": 17,
   "id": "ff5079e2",
   "metadata": {},
   "outputs": [
    {
     "name": "stdout",
     "output_type": "stream",
     "text": [
      "(31278, 25794, 3) (31278, 25794)\n"
     ]
    }
   ],
   "source": [
    "img_num = 0\n",
    "resize = PARAMS[\"resize\"]\n",
    "shft = 0.6\n",
    "wnd = PARAMS[\"img_size\"] * larger\n",
    "img = tiff.imread(os.path.join(f\"{DATA_PATH}/train\", df_masks.index[img_num] + \".tiff\"))\n",
    "if len(img.shape) == 5: img = np.transpose(img.squeeze(), (1,2,0))\n",
    "mask = enc2mask(df_masks.iloc[img_num], (img.shape[1], img.shape[0]))\n",
    "print(img.shape, mask.shape)\n",
    "imgs = cv2.resize(img,\n",
    "                 (img.shape[1] // resize, img.shape[0] // resize)\n",
    "                 )\n"
   ]
  },
  {
   "cell_type": "code",
   "execution_count": null,
   "id": "4d992814",
   "metadata": {},
   "outputs": [],
   "source": []
  }
 ],
 "metadata": {
  "kernelspec": {
   "display_name": "Python 3",
   "language": "python",
   "name": "python3"
  },
  "language_info": {
   "codemirror_mode": {
    "name": "ipython",
    "version": 3
   },
   "file_extension": ".py",
   "mimetype": "text/x-python",
   "name": "python",
   "nbconvert_exporter": "python",
   "pygments_lexer": "ipython3",
   "version": "3.7.10"
  }
 },
 "nbformat": 4,
 "nbformat_minor": 5
}
