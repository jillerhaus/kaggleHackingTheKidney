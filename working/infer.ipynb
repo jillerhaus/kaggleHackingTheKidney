{
 "cells": [
  {
   "cell_type": "code",
   "execution_count": 1,
   "id": "b7853814",
   "metadata": {},
   "outputs": [
    {
     "name": "stdout",
     "output_type": "stream",
     "text": [
      "env: SM_FRAMEWORK=tf.keras\n"
     ]
    }
   ],
   "source": [
    "%env SM_FRAMEWORK=tf.keras"
   ]
  },
  {
   "cell_type": "code",
   "execution_count": 2,
   "id": "bab8e4a3",
   "metadata": {},
   "outputs": [
    {
     "name": "stdout",
     "output_type": "stream",
     "text": [
      "nt\n",
      "device available: PhysicalDevice(name='/physical_device:GPU:0', device_type='GPU')\n"
     ]
    }
   ],
   "source": [
    "import os\n",
    "import tensorflow as tf\n",
    "system = os.name\n",
    "if system == 'posix':\n",
    "    KAGGLE = True\n",
    "else:\n",
    "    KAGGLE = False\n",
    "print(os.name)\n",
    "\n",
    "if KAGGLE:\n",
    "    os.environ['CUDA_VISIBLE_DEVICES'] = '0'\n",
    "else:\n",
    "    os.environ[\"CUDA_VISIBLE_DEVICES\"] = \"0\"\n",
    "gpu_devices = tf.config.experimental.list_physical_devices(\"GPU\")\n",
    "if gpu_devices:\n",
    "    for gpu_device in gpu_devices:\n",
    "        print(\"device available:\", gpu_device)"
   ]
  },
  {
   "cell_type": "code",
   "execution_count": 3,
   "id": "0a8a9078",
   "metadata": {},
   "outputs": [],
   "source": [
    "if KAGGLE:\n",
    "    !pip install ../input/keras-applications/Keras_Applications-1.0.8/ -f ./ --no-index\n",
    "    !pip install ../input/image-classifiers/image_classifiers-1.0.0/ -f ./ --no-index\n",
    "    !pip install ../input/efficientnet-1-0-0/efficientnet-1.0.0/ -f ./ --no-index\n",
    "    !pip install ../input/segmentationmodels/ -f ./ --no-index    "
   ]
  },
  {
   "cell_type": "code",
   "execution_count": 4,
   "id": "60cc2731",
   "metadata": {},
   "outputs": [
    {
     "name": "stdout",
     "output_type": "stream",
     "text": [
      "Segmentation Models: using `tf.keras` framework.\n",
      "tensorflow version: 2.4.1\n",
      "device available: PhysicalDevice(name='/physical_device:GPU:0', device_type='GPU')\n"
     ]
    }
   ],
   "source": [
    "import warnings\n",
    "warnings.filterwarnings('ignore')\n",
    "import os\n",
    "import gc\n",
    "import cv2\n",
    "import sys\n",
    "import json\n",
    "import time\n",
    "import pickle\n",
    "import shutil\n",
    "import numba\n",
    "import numpy as np\n",
    "import pandas as pd \n",
    "import tifffile as tiff\n",
    "import rasterio\n",
    "from rasterio.windows import Window\n",
    "import tensorflow_addons as tfa\n",
    "import matplotlib.pyplot as plt\n",
    "import tensorflow.keras.backend as K\n",
    "from tensorflow.keras import Model, Sequential\n",
    "from tensorflow.keras.models import load_model\n",
    "from tensorflow.keras.utils import Sequence\n",
    "from tensorflow.keras.losses import binary_crossentropy\n",
    "from tensorflow.keras.layers import *\n",
    "from tensorflow.keras.optimizers import Adam, SGD\n",
    "from tensorflow.keras.callbacks import *\n",
    "import segmentation_models as sm\n",
    "from segmentation_models import Unet, FPN\n",
    "from segmentation_models.losses import bce_jaccard_loss\n",
    "from tqdm import tqdm\n",
    "print('tensorflow version:', tf.__version__)\n",
    "gpu_devices = tf.config.experimental.list_physical_devices('GPU')\n",
    "if gpu_devices:\n",
    "    for gpu_device in gpu_devices:\n",
    "        print('device available:', gpu_device)\n",
    "pd.set_option('display.max_columns', None)"
   ]
  },
  {
   "cell_type": "code",
   "execution_count": 5,
   "id": "dd003a40",
   "metadata": {},
   "outputs": [],
   "source": [
    "TEST = False\n",
    "if KAGGLE:\n",
    "    TEST = True\n",
    "\n",
    "VER = 6\n",
    "DATA_PATH = f\"../input/hubmap-kidney-segmentation\"\n",
    "if KAGGLE:\n",
    "    MDL_PATH = f\"../input/kidneymodel\"\n",
    "else:\n",
    "    MDL_PATH = f\"../models/models_v{VER:03}\"\n",
    "SUB_PATH = f\"{DATA_PATH}/test\" if TEST else f\"{DATA_PATH}/train\"\n",
    "IDNT = rasterio.Affine(1, 0, 0, 0, 1, 0)\n",
    "EXPAND = 4\n",
    "MIN_OVERLAP = 256\n",
    "STRATEGY = tf.distribute.get_strategy()\n",
    "TTAS = [0]\n",
    "FOLDS = [0]\n",
    "THRESHOLD = 0.4\n",
    "VOTERS = 1\n",
    "TARGET_IMG = 'afa5e80ztu98.tiff'\n",
    "start_time = time.time()\n",
    "Y_SHFT = -40\n",
    "X_SHFT = -24"
   ]
  },
  {
   "cell_type": "code",
   "execution_count": 6,
   "id": "16b4fc04",
   "metadata": {},
   "outputs": [
    {
     "name": "stdout",
     "output_type": "stream",
     "text": [
      "loaded params: {'version': 'v06', 'folds': 1, 'img_size': 256, 'resize': 4, 'batch_size': 32, 'epochs': 40, 'patience': 20, 'backbone': 'efficientnetb7', 'loss': 'bce_dice', 'mirror': False, 'umodel': 'unet', 'bce_weight': 1.0, 'shift': True, 'pseudo': '', 'lr': 0.0002, 'split': 'kfold', 'seed': None}\n"
     ]
    }
   ],
   "source": [
    "with open(f\"{MDL_PATH}/params.json\") as file:\n",
    "    PARAMS = json.load(file)\n",
    "print(f\"loaded params: {PARAMS}\")"
   ]
  },
  {
   "cell_type": "code",
   "execution_count": 7,
   "id": "8864a404",
   "metadata": {},
   "outputs": [],
   "source": [
    "def enc2mask(encs, shape):\n",
    "    img = np.zeros(shape[0] * shape[1], dtype = np.uint8)\n",
    "    for m, enc in enumerate(encs):\n",
    "        if isinstance(enc, np.float) and np.isnan(enc): continue\n",
    "        s = enc.split()\n",
    "        for i in range(len(s) // 2):\n",
    "            start = int(s[2 * i]) - 1\n",
    "            length = int(s[2 * i + 1])\n",
    "            img[start : start + length] = 1 + m\n",
    "    return img.reshape(shape).T\n",
    "\n",
    "def rle_encode_less_memory(img):\n",
    "    pixels = img.T.flatten()\n",
    "    pixels[0] = 0\n",
    "    pixels[-1] = 0\n",
    "    runs = np.where(pixels[1:] != pixels[:-1])[0] + 2\n",
    "    runs[1::2] -= runs[::2]\n",
    "    return \" \".join(str(x) for x in runs)\n",
    "\n",
    "def global_shift_mask(maskpred1, y_shift, x_shift):\n",
    "    \"\"\"\n",
    "    applies a global shift to a mask by padding\n",
    "    one side and cropping from the other\n",
    "    \"\"\"\n",
    "    if y_shift < 0 and x_shift >= 0:\n",
    "        maskpred2 = np.pad(maskpred1, [(0,abs(y_shift)), (abs(x_shift), 0)], mode = \"constant\", constant_values=0)\n",
    "        maskpred3 = maskpred2[abs(y_shift):, :maskpred1.shape[1]]\n",
    "    elif y_shift >= 0 and x_shift < 0:\n",
    "        maskpred2 = np.pad(maskpred1, [(abs(y_shift),0), (0, abs(x_shift))], mode = \"constant\", constant_values=0)\n",
    "        maskpred3 = maskpred2[:maskpred1.shape[0], abs(x_shift):]\n",
    "    elif y_shift >= 0 and x_shift >= 0:\n",
    "        maskpred2 = np.pad(maskpred1, [(abs(y_shift),0), (abs(x_shift), 0)], mode = \"constant\", constant_values=0)\n",
    "        maskpred3 = maskpred2[:maskpred1.shape[0], :maskpred1.shape[1]]\n",
    "    elif y_shift < 0 and x_shift < 0:\n",
    "        maskpred2 = np.pad(maskpred1, [(0, abs(y_shift)), (0, abs(x_shift))], mode = \"constant\", constant_values=0)\n",
    "        maskpred3 = maskpred2[abs(y_shift):, abs(x_shift):]\n",
    "    return maskpred3"
   ]
  },
  {
   "cell_type": "code",
   "execution_count": 8,
   "id": "7edd640b",
   "metadata": {},
   "outputs": [],
   "source": [
    "def dice_coef(y_true, y_pred, smooth = 1):\n",
    "    y_true_f = K.flatten(y_true)\n",
    "    y_pred_f = K.flatten(y_pred)\n",
    "    intersection = K.sum(y_true_f * y_pred_f)\n",
    "    return (2 * intersection + smooth) / (K.sum(y_true_f) + K.sum(y_pred_f) + smooth)\n",
    "\n",
    "def dice_loss(y_true, y_pred, smooth = 1):\n",
    "    return (1 - dice_coef(y_true, y_pred, smooth))\n",
    "\n",
    "def bce_dice_loss(y_true, y_pred):\n",
    "    return params[\"bce_weight\"] * binary_crossentropy(y_true, y_pred) + \\\n",
    "        (1 - params[\"bce_weight\"]) * dice_loss(y_true, y_pred)\n",
    "\n",
    "def get_model(backbone, input_shape, loss_type = \"bce_dice\",\n",
    "              umodel = \"unet\", classes = 1, lr = 0.001):\n",
    "    if backbone == \"efficientnetb0\":\n",
    "        weights = f\"{MDL_PATH}/efficientnet-b0_weights_tf_dim_ordering_tf_kernels_autoaugment_notop.h5\"\n",
    "    elif backbone == \"efficientnetb2\":\n",
    "        weights = f\"{MDL_PATH}/efficientnet-b2_weights_tf_dim_ordering_tf_kernels_autoaugment_notop.h5\"\n",
    "    elif backbone == \"efficientnetb7\":\n",
    "        weights = f\"{MDL_PATH}/efficientnet-b7_weights_tf_dim_ordering_tf_kernels_autoaugment_notop.h5\"\n",
    "    else:\n",
    "        raise AttributeError(\"backbone unknown\")\n",
    "    if not KAGGLE:\n",
    "        weights = \"imagenet\"\n",
    "    with STRATEGY.scope():\n",
    "        if loss_type == \"bce_dice\":\n",
    "            loss = bce_dice_loss\n",
    "        else:\n",
    "            raise AttributeError(\"loss mode parameter error\")\n",
    "        if umodel == \"unet\":\n",
    "            model = Unet(backbone_name = backbone, encoder_weights = weights,\n",
    "                         input_shape = input_shape,\n",
    "                         classes = classes, activation = \"sigmoid\")\n",
    "        elif umodel == \"fpn\":\n",
    "            model = FPN(backbone_name = backbone, encoder_weights = weights,\n",
    "                        input_shape = input_shape,\n",
    "                        classes = classes, activation = \"sigmoid\")\n",
    "        else:\n",
    "            raise AttributeError(\"umodel mode parameter error\")\n",
    "        model.compile(\n",
    "            optimizer = tfa.optimizers.Lookahead(\n",
    "                tf.keras.optimizers.Adam(learning_rate = lr)\n",
    "            ),\n",
    "            loss = loss,\n",
    "            metrics = [dice_coef]\n",
    "        )\n",
    "    return model"
   ]
  },
  {
   "cell_type": "code",
   "execution_count": 9,
   "id": "861ccf93",
   "metadata": {},
   "outputs": [],
   "source": [
    "def make_grid(shape, window = 256, min_overlap = 32):\n",
    "    x, y = shape\n",
    "    nx = x // (window - min_overlap) + 1\n",
    "    x1 = np.linspace(0, x, num = nx, endpoint = False, dtype = np.int64)\n",
    "    x1[-1] = x - window\n",
    "    x2 = (x1 + window).clip(0, x)\n",
    "    ny = y // (window - min_overlap) + 1\n",
    "    y1 = np.linspace(0, y, num = ny, endpoint = False, dtype = np.int64)\n",
    "    y1[-1] = y - window\n",
    "    y2 = (y1 + window).clip(0, y)\n",
    "    slices = np.zeros((nx, ny, 4), dtype = np.int64)\n",
    "    for i in range(nx):\n",
    "        for j in range(ny):\n",
    "            slices[i, j] = x1[i], x2[i], y1[j], y2[j]\n",
    "    return slices.reshape(nx * ny, 4)\n"
   ]
  },
  {
   "cell_type": "code",
   "execution_count": 10,
   "id": "2aa14589",
   "metadata": {},
   "outputs": [
    {
     "name": "stdout",
     "output_type": "stream",
     "text": [
      "images idxs: ['0486052bb.tiff', '095bf7a1f.tiff', '1e2425f28.tiff', '26dc41664.tiff', '2f6ecfcdf.tiff', '4ef6695ce.tiff', '54f2eec69.tiff', '8242609fa.tiff', 'aaa6a05cc.tiff', 'afa5e8098.tiff', 'b2dc8411c.tiff', 'b9a3865fc.tiff', 'c68fe75ea.tiff', 'cb2d976f4.tiff', 'e79de561c.tiff']\n"
     ]
    }
   ],
   "source": [
    "img_files = [x for x in os.listdir(SUB_PATH) if \".tiff\" in x]\n",
    "print(f\"images idxs: {img_files}\")"
   ]
  },
  {
   "cell_type": "code",
   "execution_count": 11,
   "id": "9cb1858a",
   "metadata": {
    "scrolled": true
   },
   "outputs": [
    {
     "name": "stdout",
     "output_type": "stream",
     "text": [
      "-------------------- 0486052bb.tiff --------------------\n",
      "img shape:  (25784, 34937)\n"
     ]
    },
    {
     "name": "stderr",
     "output_type": "stream",
     "text": [
      "\r",
      "0486052bb.tiff:   0%|                                                                           | 0/70 [00:00<?, ?it/s]"
     ]
    },
    {
     "name": "stdout",
     "output_type": "stream",
     "text": [
      "model loaded: ../models/models_v006/model_0.hdf5\n"
     ]
    },
    {
     "name": "stderr",
     "output_type": "stream",
     "text": [
      "0486052bb.tiff: 100%|██████████████████████████████████████████████████████████████████| 70/70 [00:38<00:00,  1.79it/s]\n"
     ]
    },
    {
     "name": "stdout",
     "output_type": "stream",
     "text": [
      "img max 4 | voters: 1\n",
      "-------------------- 095bf7a1f.tiff --------------------\n",
      "img shape:  (38160, 39000)\n",
      "img file with subdatasets as channels\n"
     ]
    },
    {
     "name": "stderr",
     "output_type": "stream",
     "text": [
      "\r",
      "095bf7a1f.tiff:   0%|                                                                          | 0/110 [00:00<?, ?it/s]"
     ]
    },
    {
     "name": "stdout",
     "output_type": "stream",
     "text": [
      "model loaded: ../models/models_v006/model_0.hdf5\n"
     ]
    },
    {
     "name": "stderr",
     "output_type": "stream",
     "text": [
      "095bf7a1f.tiff: 100%|████████████████████████████████████████████████████████████████| 110/110 [00:49<00:00,  2.21it/s]\n"
     ]
    },
    {
     "name": "stdout",
     "output_type": "stream",
     "text": [
      "img max 4 | voters: 1\n",
      "-------------------- 1e2425f28.tiff --------------------\n",
      "img shape:  (26780, 32220)\n",
      "img file with subdatasets as channels\n"
     ]
    },
    {
     "name": "stderr",
     "output_type": "stream",
     "text": [
      "\r",
      "1e2425f28.tiff:   0%|                                                                           | 0/63 [00:00<?, ?it/s]"
     ]
    },
    {
     "name": "stdout",
     "output_type": "stream",
     "text": [
      "model loaded: ../models/models_v006/model_0.hdf5\n"
     ]
    },
    {
     "name": "stderr",
     "output_type": "stream",
     "text": [
      "1e2425f28.tiff:   2%|█                                                                  | 1/63 [00:02<02:51,  2.77s/it]\n"
     ]
    },
    {
     "ename": "KeyboardInterrupt",
     "evalue": "",
     "output_type": "error",
     "traceback": [
      "\u001b[1;31m---------------------------------------------------------------------------\u001b[0m",
      "\u001b[1;31mKeyboardInterrupt\u001b[0m                         Traceback (most recent call last)",
      "\u001b[1;32m<ipython-input-11-2920499b1b1d>\u001b[0m in \u001b[0;36m<module>\u001b[1;34m\u001b[0m\n\u001b[0;32m     39\u001b[0m             \u001b[1;32mfor\u001b[0m \u001b[0mfl\u001b[0m \u001b[1;32min\u001b[0m \u001b[0mrange\u001b[0m\u001b[1;33m(\u001b[0m\u001b[1;36m3\u001b[0m\u001b[1;33m)\u001b[0m\u001b[1;33m:\u001b[0m\u001b[1;33m\u001b[0m\u001b[1;33m\u001b[0m\u001b[0m\n\u001b[0;32m     40\u001b[0m                 img[:, :, fl] = layers[fl].read(\n\u001b[1;32m---> 41\u001b[1;33m                     \u001b[0mwindow\u001b[0m \u001b[1;33m=\u001b[0m \u001b[0mWindow\u001b[0m\u001b[1;33m.\u001b[0m\u001b[0mfrom_slices\u001b[0m\u001b[1;33m(\u001b[0m\u001b[1;33m(\u001b[0m\u001b[0mx1\u001b[0m\u001b[1;33m,\u001b[0m \u001b[0mx2\u001b[0m\u001b[1;33m)\u001b[0m\u001b[1;33m,\u001b[0m \u001b[1;33m(\u001b[0m\u001b[0my1\u001b[0m\u001b[1;33m,\u001b[0m \u001b[0my2\u001b[0m\u001b[1;33m)\u001b[0m\u001b[1;33m)\u001b[0m\u001b[1;33m\u001b[0m\u001b[1;33m\u001b[0m\u001b[0m\n\u001b[0m\u001b[0;32m     42\u001b[0m                 )\n\u001b[0;32m     43\u001b[0m         \u001b[0mimg\u001b[0m \u001b[1;33m=\u001b[0m \u001b[0mcv2\u001b[0m\u001b[1;33m.\u001b[0m\u001b[0mresize\u001b[0m\u001b[1;33m(\u001b[0m\u001b[0mimg\u001b[0m\u001b[1;33m,\u001b[0m \u001b[1;33m(\u001b[0m\u001b[0mtile_size\u001b[0m\u001b[1;33m,\u001b[0m \u001b[0mtile_size\u001b[0m\u001b[1;33m)\u001b[0m\u001b[1;33m)\u001b[0m\u001b[1;33m\u001b[0m\u001b[1;33m\u001b[0m\u001b[0m\n",
      "\u001b[1;31mKeyboardInterrupt\u001b[0m: "
     ]
    }
   ],
   "source": [
    "subm = {}\n",
    "for i_img, img_file in enumerate(img_files):\n",
    "    print(\"-\" * 20, img_file, \"-\" * 20)\n",
    "    img_data = rasterio.open(os.path.join(SUB_PATH, img_file), transform=IDNT)\n",
    "    print(\"img shape: \", img_data.shape)\n",
    "    if img_data.count != 3:\n",
    "        print(\"img file with subdatasets as channels\")\n",
    "        layers = [rasterio.open(subd) for subd in img_data.subdatasets]\n",
    "    img_preds = np.zeros(img_data.shape, dtype=np.uint8)\n",
    "    tile_size = int(PARAMS[\"img_size\"] * EXPAND)\n",
    "    tile_resized = int(tile_size * PARAMS[\"resize\"])\n",
    "    slices = make_grid(\n",
    "        img_data.shape,\n",
    "        window = tile_resized,\n",
    "        min_overlap = MIN_OVERLAP\n",
    "    )\n",
    "    models = []\n",
    "    folds = FOLDS\n",
    "    for n_fold in folds:\n",
    "        checkpoint_path = f\"{MDL_PATH}/model_{n_fold}.hdf5\"\n",
    "        model = get_model(\n",
    "            PARAMS[\"backbone\"],\n",
    "            input_shape = (tile_size, tile_size, 3),\n",
    "            loss_type = PARAMS[\"loss\"],\n",
    "            umodel = PARAMS[\"umodel\"]\n",
    "        )\n",
    "        model.load_weights(checkpoint_path)\n",
    "        models.append(model)\n",
    "        print(\"model loaded:\", checkpoint_path)\n",
    "    for (x1, x2, y1, y2) in tqdm(slices, desc = f\"{img_file}\"):\n",
    "        if img_data.count == 3: #normal\n",
    "            img = img_data.read(\n",
    "                [1, 2, 3],\n",
    "                window = Window.from_slices((x1, x2), (y1, y2))\n",
    "            )\n",
    "            img = np.moveaxis(img, 0, -1)\n",
    "        else: # with subdatasets/layers\n",
    "            img = np.zeros((tile_resized, tile_resized, 3), dtype = np.uint8)\n",
    "            for fl in range(3):\n",
    "                img[:, :, fl] = layers[fl].read(\n",
    "                    window = Window.from_slices((x1, x2), (y1, y2))\n",
    "                )\n",
    "        img = cv2.resize(img, (tile_size, tile_size))\n",
    "        img = cv2.cvtColor(img, cv2.COLOR_RGB2BGR)\n",
    "        pred = np.zeros((tile_size, tile_size), dtype = np.float32)\n",
    "        for tta_mode in TTAS:\n",
    "            img_aug = img\n",
    "            img_aug = np.expand_dims(img_aug, 0)\n",
    "            img_aug = img_aug.astype(np.float32) / 255\n",
    "            pred_aug = np.zeros((tile_size, tile_size), dtype = np.float32)\n",
    "            for model in models:\n",
    "                pred_aug += np.squeeze(model.predict(img_aug)) / len(models)\n",
    "                del  model; gc.collect()\n",
    "            pred += pred_aug / len(TTAS)\n",
    "        pred = cv2.resize(pred, (tile_resized, tile_resized))\n",
    "        img_preds[x1:x2, y1:y2] = img_preds[x1:x2, y1:y2] + \\\n",
    "            (pred > THRESHOLD).astype(np.uint8)\n",
    "    del models, img, pred, img_aug, pred_aug; gc.collect()\n",
    "    print(\"img max\", np.max(img_preds), \"| voters:\", VOTERS)\n",
    "    if img_file == TARGET_IMG:\n",
    "        print(\"global shift\")\n",
    "        img_preds = (img_preds >= VOTERS).astype(np.uint8)\n",
    "        img_preds = global_shift_mask(img_preds, Y_SHFT, X_SHFT)\n",
    "    else:\n",
    "        img_preds = (img_preds >= VOTERS).astype(np.uint8)\n",
    "    rle_pred = rle_encode_less_memory(img_preds)\n",
    "    subm[i_img] = {\"id\": img_file.replace(\".tiff\", \"\"), \"predicted\": rle_pred}\n",
    "    del img_preds, img_data, rle_pred; gc.collect()\n",
    "\n",
    "elapsed_time = time.time() - start_time\n",
    "print(f\"time elapsed: {elapsed_time // 60:.0f} min {elapsed_time % 60:.0f} sec\")"
   ]
  },
  {
   "cell_type": "code",
   "execution_count": 12,
   "id": "2ed9b5ba",
   "metadata": {},
   "outputs": [
    {
     "data": {
      "text/html": [
       "<div>\n",
       "<style scoped>\n",
       "    .dataframe tbody tr th:only-of-type {\n",
       "        vertical-align: middle;\n",
       "    }\n",
       "\n",
       "    .dataframe tbody tr th {\n",
       "        vertical-align: top;\n",
       "    }\n",
       "\n",
       "    .dataframe thead th {\n",
       "        text-align: right;\n",
       "    }\n",
       "</style>\n",
       "<table border=\"1\" class=\"dataframe\">\n",
       "  <thead>\n",
       "    <tr style=\"text-align: right;\">\n",
       "      <th></th>\n",
       "      <th>id</th>\n",
       "      <th>predicted</th>\n",
       "    </tr>\n",
       "  </thead>\n",
       "  <tbody>\n",
       "    <tr>\n",
       "      <th>0</th>\n",
       "      <td>0486052bb</td>\n",
       "      <td>102011282 53 102037059 70 102062839 80 1020885...</td>\n",
       "    </tr>\n",
       "    <tr>\n",
       "      <th>1</th>\n",
       "      <td>095bf7a1f</td>\n",
       "      <td>118239054 15 118239107 13 118277206 79 1183153...</td>\n",
       "    </tr>\n",
       "  </tbody>\n",
       "</table>\n",
       "</div>"
      ],
      "text/plain": [
       "          id                                          predicted\n",
       "0  0486052bb  102011282 53 102037059 70 102062839 80 1020885...\n",
       "1  095bf7a1f  118239054 15 118239107 13 118277206 79 1183153..."
      ]
     },
     "execution_count": 12,
     "metadata": {},
     "output_type": "execute_result"
    }
   ],
   "source": [
    "df_sub = pd.DataFrame(subm).T\n",
    "df_sub"
   ]
  },
  {
   "cell_type": "code",
   "execution_count": 13,
   "id": "e2d7ad17",
   "metadata": {},
   "outputs": [],
   "source": [
    "df_sub.to_csv(\"submission.csv\", index = False)"
   ]
  },
  {
   "cell_type": "code",
   "execution_count": 14,
   "id": "8731d616",
   "metadata": {},
   "outputs": [
    {
     "name": "stdout",
     "output_type": "stream",
     "text": [
      "(3, 38160, 39000)\n",
      "(38160, 39000, 3)\n",
      "(38160, 39000)\n",
      "(38160, 39000)\n"
     ]
    },
    {
     "data": {
      "image/png": "[encoded data removed]",
      "text/plain": [
       "<Figure size 1152x1152 with 1 Axes>"
      ]
     },
     "metadata": {
      "needs_background": "light"
     },
     "output_type": "display_data"
    },
    {
     "name": "stdout",
     "output_type": "stream",
     "text": [
      "time elapsed: 5 min, 52 sec\n"
     ]
    }
   ],
   "source": [
    "i = 1\n",
    "if not KAGGLE:\n",
    "    if not TEST:\n",
    "        df_masks = pd.read_csv(f\"{DATA_PATH}/train.csv\").set_index(\"id\")\n",
    "        idx = df_sub.iloc[i].id\n",
    "        img = tiff.imread(os.path.join(SUB_PATH, idx + \".tiff\"))\n",
    "        print(img.shape)\n",
    "        if img.shape[0] == 3: img = np.transpose(img.squeeze(), (1, 2, 0))\n",
    "        msk_p = enc2mask([df_sub.iloc[i].predicted], (img.shape[1], img.shape[0]))\n",
    "        msk = enc2mask([df_masks.loc[idx, \"encoding\"]], (img.shape[1], img.shape[0]))\n",
    "        print(img.shape)\n",
    "        print(msk_p.shape)\n",
    "        print(msk.shape)\n",
    "        \n",
    "        #plt.figure(figsize = (16, 16))\n",
    "        #plt.imshow(img)\n",
    "        #plt.imshow(msk, alpha = 0.3)\n",
    "        #plt.title(idx)\n",
    "        #plt.show()\n",
    "        \n",
    "        #plt.figure(figsize = (16, 16))\n",
    "        #plt.figure(figsize = (16, 16))\n",
    "        #plt.imshow(img)\n",
    "        #plt.imshow(msk_p, alpha = 0.3)\n",
    "        #plt.title(idx)\n",
    "        #plt.show()\n",
    "        \n",
    "        plt.figure(figsize = (16, 16))\n",
    "        plt.imshow(msk, alpha = 1, cmap = \"BuPu\")\n",
    "        plt.imshow(msk_p, alpha = 0.4)\n",
    "        plt.title(idx)\n",
    "        plt.savefig(f'{MDL_PATH}/{idx}-{int(time.time())}.jpeg', transparent=True, bbox_inches = 'tight',\n",
    "                            facecolor = 'k',pad_inches = 0)\n",
    "        plt.show()\n",
    "    else:\n",
    "        idx = df_sub.iloc[0].id\n",
    "        img = tiff.imread(os.path.join(SUB_PATH, idx + \".tiff\"))\n",
    "        if len(img.shape) == 5: img = np.transpose(img.squeeze(), (1, 2, 0))\n",
    "        msk_p = enc2mask([df_sub.iloc[0].predicted], (img.shape[1], img.shape[0]))\n",
    "        print(img.shape)\n",
    "        print(msk_p.shape)\n",
    "        plt.figure(figsize = (16, 16))\n",
    "        plt.imshow(img)\n",
    "        plt.imshow(msk_p, alpha = 0.4)\n",
    "        plt.title(idx)\n",
    "        plt.show()\n",
    "    elapsed_time = time.time() - start_time\n",
    "    print(f\"time elapsed: {elapsed_time // 60:.0f} min, {elapsed_time % 60:.0f} sec\")"
   ]
  },
  {
   "cell_type": "code",
   "execution_count": null,
   "id": "2efc5ebe",
   "metadata": {},
   "outputs": [],
   "source": []
  }
 ],
 "metadata": {
  "kernelspec": {
   "display_name": "Python 3",
   "language": "python",
   "name": "python3"
  },
  "language_info": {
   "codemirror_mode": {
    "name": "ipython",
    "version": 3
   },
   "file_extension": ".py",
   "mimetype": "text/x-python",
   "name": "python",
   "nbconvert_exporter": "python",
   "pygments_lexer": "ipython3",
   "version": "3.7.10"
  }
 },
 "nbformat": 4,
 "nbformat_minor": 5
}
